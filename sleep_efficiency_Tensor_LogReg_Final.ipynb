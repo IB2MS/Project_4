{
 "cells": [
  {
   "cell_type": "markdown",
   "id": "c33ebb72",
   "metadata": {},
   "source": [
    "# Preprocessing"
   ]
  },
  {
   "cell_type": "code",
   "execution_count": 1,
   "id": "a573f197",
   "metadata": {},
   "outputs": [],
   "source": [
    "import pandas as pd\n",
    "from sklearn.model_selection import train_test_split\n",
    "from sklearn.preprocessing import StandardScaler\n",
    "import tensorflow as tf\n",
    "\n",
    "from imblearn.over_sampling import RandomOverSampler\n",
    "import numpy as np\n",
    "from pathlib import Path\n",
    "from sklearn.metrics import balanced_accuracy_score, confusion_matrix, classification_report"
   ]
  },
  {
   "cell_type": "code",
   "execution_count": 2,
   "id": "7b030be2",
   "metadata": {},
   "outputs": [
    {
     "data": {
      "text/html": [
       "<div>\n",
       "<style scoped>\n",
       "    .dataframe tbody tr th:only-of-type {\n",
       "        vertical-align: middle;\n",
       "    }\n",
       "\n",
       "    .dataframe tbody tr th {\n",
       "        vertical-align: top;\n",
       "    }\n",
       "\n",
       "    .dataframe thead th {\n",
       "        text-align: right;\n",
       "    }\n",
       "</style>\n",
       "<table border=\"1\" class=\"dataframe\">\n",
       "  <thead>\n",
       "    <tr style=\"text-align: right;\">\n",
       "      <th></th>\n",
       "      <th>ID</th>\n",
       "      <th>Age</th>\n",
       "      <th>Gender</th>\n",
       "      <th>Bedtime</th>\n",
       "      <th>Wakeup time</th>\n",
       "      <th>Sleep duration</th>\n",
       "      <th>Sleep efficiency</th>\n",
       "      <th>REM sleep percentage</th>\n",
       "      <th>Deep sleep percentage</th>\n",
       "      <th>Light sleep percentage</th>\n",
       "      <th>Awakenings</th>\n",
       "      <th>Caffeine consumption</th>\n",
       "      <th>Alcohol consumption</th>\n",
       "      <th>Smoking status</th>\n",
       "      <th>Exercise frequency</th>\n",
       "    </tr>\n",
       "  </thead>\n",
       "  <tbody>\n",
       "    <tr>\n",
       "      <th>0</th>\n",
       "      <td>1</td>\n",
       "      <td>65</td>\n",
       "      <td>Female</td>\n",
       "      <td>06/03/2021 01:00</td>\n",
       "      <td>06/03/2021 07:00</td>\n",
       "      <td>6.0</td>\n",
       "      <td>0.88</td>\n",
       "      <td>18</td>\n",
       "      <td>70</td>\n",
       "      <td>12</td>\n",
       "      <td>0.0</td>\n",
       "      <td>0.0</td>\n",
       "      <td>0.0</td>\n",
       "      <td>Yes</td>\n",
       "      <td>3.0</td>\n",
       "    </tr>\n",
       "    <tr>\n",
       "      <th>1</th>\n",
       "      <td>2</td>\n",
       "      <td>69</td>\n",
       "      <td>Male</td>\n",
       "      <td>05/12/2021 02:00</td>\n",
       "      <td>05/12/2021 09:00</td>\n",
       "      <td>7.0</td>\n",
       "      <td>0.66</td>\n",
       "      <td>19</td>\n",
       "      <td>28</td>\n",
       "      <td>53</td>\n",
       "      <td>3.0</td>\n",
       "      <td>0.0</td>\n",
       "      <td>3.0</td>\n",
       "      <td>Yes</td>\n",
       "      <td>3.0</td>\n",
       "    </tr>\n",
       "    <tr>\n",
       "      <th>2</th>\n",
       "      <td>3</td>\n",
       "      <td>40</td>\n",
       "      <td>Female</td>\n",
       "      <td>25/05/2021 21:30</td>\n",
       "      <td>25/05/2021 05:30</td>\n",
       "      <td>8.0</td>\n",
       "      <td>0.89</td>\n",
       "      <td>20</td>\n",
       "      <td>70</td>\n",
       "      <td>10</td>\n",
       "      <td>1.0</td>\n",
       "      <td>0.0</td>\n",
       "      <td>0.0</td>\n",
       "      <td>No</td>\n",
       "      <td>3.0</td>\n",
       "    </tr>\n",
       "    <tr>\n",
       "      <th>3</th>\n",
       "      <td>4</td>\n",
       "      <td>40</td>\n",
       "      <td>Female</td>\n",
       "      <td>03/11/2021 02:30</td>\n",
       "      <td>03/11/2021 08:30</td>\n",
       "      <td>6.0</td>\n",
       "      <td>0.51</td>\n",
       "      <td>23</td>\n",
       "      <td>25</td>\n",
       "      <td>52</td>\n",
       "      <td>3.0</td>\n",
       "      <td>50.0</td>\n",
       "      <td>5.0</td>\n",
       "      <td>Yes</td>\n",
       "      <td>1.0</td>\n",
       "    </tr>\n",
       "    <tr>\n",
       "      <th>4</th>\n",
       "      <td>5</td>\n",
       "      <td>57</td>\n",
       "      <td>Male</td>\n",
       "      <td>13/03/2021 01:00</td>\n",
       "      <td>13/03/2021 09:00</td>\n",
       "      <td>8.0</td>\n",
       "      <td>0.76</td>\n",
       "      <td>27</td>\n",
       "      <td>55</td>\n",
       "      <td>18</td>\n",
       "      <td>3.0</td>\n",
       "      <td>0.0</td>\n",
       "      <td>3.0</td>\n",
       "      <td>No</td>\n",
       "      <td>3.0</td>\n",
       "    </tr>\n",
       "  </tbody>\n",
       "</table>\n",
       "</div>"
      ],
      "text/plain": [
       "   ID  Age  Gender           Bedtime       Wakeup time  Sleep duration  \\\n",
       "0   1   65  Female  06/03/2021 01:00  06/03/2021 07:00             6.0   \n",
       "1   2   69    Male  05/12/2021 02:00  05/12/2021 09:00             7.0   \n",
       "2   3   40  Female  25/05/2021 21:30  25/05/2021 05:30             8.0   \n",
       "3   4   40  Female  03/11/2021 02:30  03/11/2021 08:30             6.0   \n",
       "4   5   57    Male  13/03/2021 01:00  13/03/2021 09:00             8.0   \n",
       "\n",
       "   Sleep efficiency  REM sleep percentage  Deep sleep percentage  \\\n",
       "0              0.88                    18                     70   \n",
       "1              0.66                    19                     28   \n",
       "2              0.89                    20                     70   \n",
       "3              0.51                    23                     25   \n",
       "4              0.76                    27                     55   \n",
       "\n",
       "   Light sleep percentage  Awakenings  Caffeine consumption  \\\n",
       "0                      12         0.0                   0.0   \n",
       "1                      53         3.0                   0.0   \n",
       "2                      10         1.0                   0.0   \n",
       "3                      52         3.0                  50.0   \n",
       "4                      18         3.0                   0.0   \n",
       "\n",
       "   Alcohol consumption Smoking status  Exercise frequency  \n",
       "0                  0.0            Yes                 3.0  \n",
       "1                  3.0            Yes                 3.0  \n",
       "2                  0.0             No                 3.0  \n",
       "3                  5.0            Yes                 1.0  \n",
       "4                  3.0             No                 3.0  "
      ]
     },
     "execution_count": 2,
     "metadata": {},
     "output_type": "execute_result"
    }
   ],
   "source": [
    "sleep_df = pd.read_csv(\"Sleep_Efficiency_Updated.csv\")\n",
    "sleep_df.head()"
   ]
  },
  {
   "cell_type": "code",
   "execution_count": 3,
   "id": "931ad428",
   "metadata": {},
   "outputs": [],
   "source": [
    "sleep_df = sleep_df.drop(columns=['ID','Bedtime', 'Wakeup time'])"
   ]
  },
  {
   "cell_type": "code",
   "execution_count": 4,
   "id": "e5060de6",
   "metadata": {},
   "outputs": [
    {
     "data": {
      "text/plain": [
       "Age                       61\n",
       "Gender                     2\n",
       "Sleep duration             9\n",
       "Sleep efficiency          50\n",
       "REM sleep percentage      13\n",
       "Deep sleep percentage     29\n",
       "Light sleep percentage    29\n",
       "Awakenings                 5\n",
       "Caffeine consumption       6\n",
       "Alcohol consumption        6\n",
       "Smoking status             2\n",
       "Exercise frequency         6\n",
       "dtype: int64"
      ]
     },
     "execution_count": 4,
     "metadata": {},
     "output_type": "execute_result"
    }
   ],
   "source": [
    "sleep_df.nunique()"
   ]
  },
  {
   "cell_type": "code",
   "execution_count": 5,
   "id": "c6ad5d43",
   "metadata": {},
   "outputs": [
    {
     "name": "stdout",
     "output_type": "stream",
     "text": [
      "<class 'pandas.core.frame.DataFrame'>\n",
      "RangeIndex: 618 entries, 0 to 617\n",
      "Data columns (total 12 columns):\n",
      " #   Column                  Non-Null Count  Dtype  \n",
      "---  ------                  --------------  -----  \n",
      " 0   Age                     618 non-null    int64  \n",
      " 1   Gender                  618 non-null    object \n",
      " 2   Sleep duration          618 non-null    float64\n",
      " 3   Sleep efficiency        618 non-null    float64\n",
      " 4   REM sleep percentage    618 non-null    int64  \n",
      " 5   Deep sleep percentage   618 non-null    int64  \n",
      " 6   Light sleep percentage  618 non-null    int64  \n",
      " 7   Awakenings              591 non-null    float64\n",
      " 8   Caffeine consumption    582 non-null    float64\n",
      " 9   Alcohol consumption     597 non-null    float64\n",
      " 10  Smoking status          618 non-null    object \n",
      " 11  Exercise frequency      611 non-null    float64\n",
      "dtypes: float64(6), int64(4), object(2)\n",
      "memory usage: 58.1+ KB\n"
     ]
    }
   ],
   "source": [
    "sleep_df.info()"
   ]
  },
  {
   "cell_type": "code",
   "execution_count": 6,
   "id": "b9e7b5a0",
   "metadata": {},
   "outputs": [],
   "source": [
    "sleep_df = pd.get_dummies(sleep_df)"
   ]
  },
  {
   "cell_type": "code",
   "execution_count": 7,
   "id": "4c67dfa3",
   "metadata": {},
   "outputs": [
    {
     "data": {
      "text/html": [
       "<div>\n",
       "<style scoped>\n",
       "    .dataframe tbody tr th:only-of-type {\n",
       "        vertical-align: middle;\n",
       "    }\n",
       "\n",
       "    .dataframe tbody tr th {\n",
       "        vertical-align: top;\n",
       "    }\n",
       "\n",
       "    .dataframe thead th {\n",
       "        text-align: right;\n",
       "    }\n",
       "</style>\n",
       "<table border=\"1\" class=\"dataframe\">\n",
       "  <thead>\n",
       "    <tr style=\"text-align: right;\">\n",
       "      <th></th>\n",
       "      <th>Age</th>\n",
       "      <th>Sleep duration</th>\n",
       "      <th>Sleep efficiency</th>\n",
       "      <th>REM sleep percentage</th>\n",
       "      <th>Deep sleep percentage</th>\n",
       "      <th>Light sleep percentage</th>\n",
       "      <th>Awakenings</th>\n",
       "      <th>Caffeine consumption</th>\n",
       "      <th>Alcohol consumption</th>\n",
       "      <th>Exercise frequency</th>\n",
       "      <th>Gender_Female</th>\n",
       "      <th>Gender_Male</th>\n",
       "      <th>Smoking status_No</th>\n",
       "      <th>Smoking status_Yes</th>\n",
       "    </tr>\n",
       "  </thead>\n",
       "  <tbody>\n",
       "    <tr>\n",
       "      <th>0</th>\n",
       "      <td>65</td>\n",
       "      <td>6.0</td>\n",
       "      <td>0.88</td>\n",
       "      <td>18</td>\n",
       "      <td>70</td>\n",
       "      <td>12</td>\n",
       "      <td>0.0</td>\n",
       "      <td>0.0</td>\n",
       "      <td>0.0</td>\n",
       "      <td>3.0</td>\n",
       "      <td>1</td>\n",
       "      <td>0</td>\n",
       "      <td>0</td>\n",
       "      <td>1</td>\n",
       "    </tr>\n",
       "    <tr>\n",
       "      <th>1</th>\n",
       "      <td>69</td>\n",
       "      <td>7.0</td>\n",
       "      <td>0.66</td>\n",
       "      <td>19</td>\n",
       "      <td>28</td>\n",
       "      <td>53</td>\n",
       "      <td>3.0</td>\n",
       "      <td>0.0</td>\n",
       "      <td>3.0</td>\n",
       "      <td>3.0</td>\n",
       "      <td>0</td>\n",
       "      <td>1</td>\n",
       "      <td>0</td>\n",
       "      <td>1</td>\n",
       "    </tr>\n",
       "    <tr>\n",
       "      <th>2</th>\n",
       "      <td>40</td>\n",
       "      <td>8.0</td>\n",
       "      <td>0.89</td>\n",
       "      <td>20</td>\n",
       "      <td>70</td>\n",
       "      <td>10</td>\n",
       "      <td>1.0</td>\n",
       "      <td>0.0</td>\n",
       "      <td>0.0</td>\n",
       "      <td>3.0</td>\n",
       "      <td>1</td>\n",
       "      <td>0</td>\n",
       "      <td>1</td>\n",
       "      <td>0</td>\n",
       "    </tr>\n",
       "    <tr>\n",
       "      <th>3</th>\n",
       "      <td>40</td>\n",
       "      <td>6.0</td>\n",
       "      <td>0.51</td>\n",
       "      <td>23</td>\n",
       "      <td>25</td>\n",
       "      <td>52</td>\n",
       "      <td>3.0</td>\n",
       "      <td>50.0</td>\n",
       "      <td>5.0</td>\n",
       "      <td>1.0</td>\n",
       "      <td>1</td>\n",
       "      <td>0</td>\n",
       "      <td>0</td>\n",
       "      <td>1</td>\n",
       "    </tr>\n",
       "    <tr>\n",
       "      <th>4</th>\n",
       "      <td>57</td>\n",
       "      <td>8.0</td>\n",
       "      <td>0.76</td>\n",
       "      <td>27</td>\n",
       "      <td>55</td>\n",
       "      <td>18</td>\n",
       "      <td>3.0</td>\n",
       "      <td>0.0</td>\n",
       "      <td>3.0</td>\n",
       "      <td>3.0</td>\n",
       "      <td>0</td>\n",
       "      <td>1</td>\n",
       "      <td>1</td>\n",
       "      <td>0</td>\n",
       "    </tr>\n",
       "    <tr>\n",
       "      <th>...</th>\n",
       "      <td>...</td>\n",
       "      <td>...</td>\n",
       "      <td>...</td>\n",
       "      <td>...</td>\n",
       "      <td>...</td>\n",
       "      <td>...</td>\n",
       "      <td>...</td>\n",
       "      <td>...</td>\n",
       "      <td>...</td>\n",
       "      <td>...</td>\n",
       "      <td>...</td>\n",
       "      <td>...</td>\n",
       "      <td>...</td>\n",
       "      <td>...</td>\n",
       "    </tr>\n",
       "    <tr>\n",
       "      <th>613</th>\n",
       "      <td>61</td>\n",
       "      <td>7.0</td>\n",
       "      <td>0.67</td>\n",
       "      <td>23</td>\n",
       "      <td>23</td>\n",
       "      <td>54</td>\n",
       "      <td>2.0</td>\n",
       "      <td>50.0</td>\n",
       "      <td>5.0</td>\n",
       "      <td>0.0</td>\n",
       "      <td>1</td>\n",
       "      <td>0</td>\n",
       "      <td>1</td>\n",
       "      <td>0</td>\n",
       "    </tr>\n",
       "    <tr>\n",
       "      <th>614</th>\n",
       "      <td>30</td>\n",
       "      <td>8.0</td>\n",
       "      <td>0.94</td>\n",
       "      <td>22</td>\n",
       "      <td>63</td>\n",
       "      <td>15</td>\n",
       "      <td>1.0</td>\n",
       "      <td>75.0</td>\n",
       "      <td>0.0</td>\n",
       "      <td>2.0</td>\n",
       "      <td>1</td>\n",
       "      <td>0</td>\n",
       "      <td>0</td>\n",
       "      <td>1</td>\n",
       "    </tr>\n",
       "    <tr>\n",
       "      <th>615</th>\n",
       "      <td>48</td>\n",
       "      <td>6.0</td>\n",
       "      <td>0.79</td>\n",
       "      <td>24</td>\n",
       "      <td>60</td>\n",
       "      <td>16</td>\n",
       "      <td>4.0</td>\n",
       "      <td>0.0</td>\n",
       "      <td>0.0</td>\n",
       "      <td>2.0</td>\n",
       "      <td>0</td>\n",
       "      <td>1</td>\n",
       "      <td>0</td>\n",
       "      <td>1</td>\n",
       "    </tr>\n",
       "    <tr>\n",
       "      <th>616</th>\n",
       "      <td>32</td>\n",
       "      <td>5.0</td>\n",
       "      <td>0.86</td>\n",
       "      <td>20</td>\n",
       "      <td>65</td>\n",
       "      <td>15</td>\n",
       "      <td>1.0</td>\n",
       "      <td>25.0</td>\n",
       "      <td>1.0</td>\n",
       "      <td>0.0</td>\n",
       "      <td>1</td>\n",
       "      <td>0</td>\n",
       "      <td>1</td>\n",
       "      <td>0</td>\n",
       "    </tr>\n",
       "    <tr>\n",
       "      <th>617</th>\n",
       "      <td>52</td>\n",
       "      <td>7.0</td>\n",
       "      <td>0.83</td>\n",
       "      <td>23</td>\n",
       "      <td>57</td>\n",
       "      <td>20</td>\n",
       "      <td>1.0</td>\n",
       "      <td>0.0</td>\n",
       "      <td>0.0</td>\n",
       "      <td>0.0</td>\n",
       "      <td>0</td>\n",
       "      <td>1</td>\n",
       "      <td>0</td>\n",
       "      <td>1</td>\n",
       "    </tr>\n",
       "  </tbody>\n",
       "</table>\n",
       "<p>618 rows × 14 columns</p>\n",
       "</div>"
      ],
      "text/plain": [
       "     Age  Sleep duration  Sleep efficiency  REM sleep percentage  \\\n",
       "0     65             6.0              0.88                    18   \n",
       "1     69             7.0              0.66                    19   \n",
       "2     40             8.0              0.89                    20   \n",
       "3     40             6.0              0.51                    23   \n",
       "4     57             8.0              0.76                    27   \n",
       "..   ...             ...               ...                   ...   \n",
       "613   61             7.0              0.67                    23   \n",
       "614   30             8.0              0.94                    22   \n",
       "615   48             6.0              0.79                    24   \n",
       "616   32             5.0              0.86                    20   \n",
       "617   52             7.0              0.83                    23   \n",
       "\n",
       "     Deep sleep percentage  Light sleep percentage  Awakenings  \\\n",
       "0                       70                      12         0.0   \n",
       "1                       28                      53         3.0   \n",
       "2                       70                      10         1.0   \n",
       "3                       25                      52         3.0   \n",
       "4                       55                      18         3.0   \n",
       "..                     ...                     ...         ...   \n",
       "613                     23                      54         2.0   \n",
       "614                     63                      15         1.0   \n",
       "615                     60                      16         4.0   \n",
       "616                     65                      15         1.0   \n",
       "617                     57                      20         1.0   \n",
       "\n",
       "     Caffeine consumption  Alcohol consumption  Exercise frequency  \\\n",
       "0                     0.0                  0.0                 3.0   \n",
       "1                     0.0                  3.0                 3.0   \n",
       "2                     0.0                  0.0                 3.0   \n",
       "3                    50.0                  5.0                 1.0   \n",
       "4                     0.0                  3.0                 3.0   \n",
       "..                    ...                  ...                 ...   \n",
       "613                  50.0                  5.0                 0.0   \n",
       "614                  75.0                  0.0                 2.0   \n",
       "615                   0.0                  0.0                 2.0   \n",
       "616                  25.0                  1.0                 0.0   \n",
       "617                   0.0                  0.0                 0.0   \n",
       "\n",
       "     Gender_Female  Gender_Male  Smoking status_No  Smoking status_Yes  \n",
       "0                1            0                  0                   1  \n",
       "1                0            1                  0                   1  \n",
       "2                1            0                  1                   0  \n",
       "3                1            0                  0                   1  \n",
       "4                0            1                  1                   0  \n",
       "..             ...          ...                ...                 ...  \n",
       "613              1            0                  1                   0  \n",
       "614              1            0                  0                   1  \n",
       "615              0            1                  0                   1  \n",
       "616              1            0                  1                   0  \n",
       "617              0            1                  0                   1  \n",
       "\n",
       "[618 rows x 14 columns]"
      ]
     },
     "execution_count": 7,
     "metadata": {},
     "output_type": "execute_result"
    }
   ],
   "source": [
    "sleep_df"
   ]
  },
  {
   "cell_type": "code",
   "execution_count": 8,
   "id": "bdef3b87",
   "metadata": {},
   "outputs": [],
   "source": [
    "sleep_df['Sleep efficiency'] = sleep_df['Sleep efficiency'].apply(lambda x: 1 if x > 0.85 else 0)"
   ]
  },
  {
   "cell_type": "code",
   "execution_count": 9,
   "id": "873ce361",
   "metadata": {},
   "outputs": [
    {
     "data": {
      "text/html": [
       "<div>\n",
       "<style scoped>\n",
       "    .dataframe tbody tr th:only-of-type {\n",
       "        vertical-align: middle;\n",
       "    }\n",
       "\n",
       "    .dataframe tbody tr th {\n",
       "        vertical-align: top;\n",
       "    }\n",
       "\n",
       "    .dataframe thead th {\n",
       "        text-align: right;\n",
       "    }\n",
       "</style>\n",
       "<table border=\"1\" class=\"dataframe\">\n",
       "  <thead>\n",
       "    <tr style=\"text-align: right;\">\n",
       "      <th></th>\n",
       "      <th>Age</th>\n",
       "      <th>Sleep duration</th>\n",
       "      <th>Sleep efficiency</th>\n",
       "      <th>REM sleep percentage</th>\n",
       "      <th>Deep sleep percentage</th>\n",
       "      <th>Light sleep percentage</th>\n",
       "      <th>Awakenings</th>\n",
       "      <th>Caffeine consumption</th>\n",
       "      <th>Alcohol consumption</th>\n",
       "      <th>Exercise frequency</th>\n",
       "      <th>Gender_Female</th>\n",
       "      <th>Gender_Male</th>\n",
       "      <th>Smoking status_No</th>\n",
       "      <th>Smoking status_Yes</th>\n",
       "    </tr>\n",
       "  </thead>\n",
       "  <tbody>\n",
       "    <tr>\n",
       "      <th>0</th>\n",
       "      <td>65</td>\n",
       "      <td>6.0</td>\n",
       "      <td>1</td>\n",
       "      <td>18</td>\n",
       "      <td>70</td>\n",
       "      <td>12</td>\n",
       "      <td>0.0</td>\n",
       "      <td>0.0</td>\n",
       "      <td>0.0</td>\n",
       "      <td>3.0</td>\n",
       "      <td>1</td>\n",
       "      <td>0</td>\n",
       "      <td>0</td>\n",
       "      <td>1</td>\n",
       "    </tr>\n",
       "    <tr>\n",
       "      <th>1</th>\n",
       "      <td>69</td>\n",
       "      <td>7.0</td>\n",
       "      <td>0</td>\n",
       "      <td>19</td>\n",
       "      <td>28</td>\n",
       "      <td>53</td>\n",
       "      <td>3.0</td>\n",
       "      <td>0.0</td>\n",
       "      <td>3.0</td>\n",
       "      <td>3.0</td>\n",
       "      <td>0</td>\n",
       "      <td>1</td>\n",
       "      <td>0</td>\n",
       "      <td>1</td>\n",
       "    </tr>\n",
       "    <tr>\n",
       "      <th>2</th>\n",
       "      <td>40</td>\n",
       "      <td>8.0</td>\n",
       "      <td>1</td>\n",
       "      <td>20</td>\n",
       "      <td>70</td>\n",
       "      <td>10</td>\n",
       "      <td>1.0</td>\n",
       "      <td>0.0</td>\n",
       "      <td>0.0</td>\n",
       "      <td>3.0</td>\n",
       "      <td>1</td>\n",
       "      <td>0</td>\n",
       "      <td>1</td>\n",
       "      <td>0</td>\n",
       "    </tr>\n",
       "    <tr>\n",
       "      <th>3</th>\n",
       "      <td>40</td>\n",
       "      <td>6.0</td>\n",
       "      <td>0</td>\n",
       "      <td>23</td>\n",
       "      <td>25</td>\n",
       "      <td>52</td>\n",
       "      <td>3.0</td>\n",
       "      <td>50.0</td>\n",
       "      <td>5.0</td>\n",
       "      <td>1.0</td>\n",
       "      <td>1</td>\n",
       "      <td>0</td>\n",
       "      <td>0</td>\n",
       "      <td>1</td>\n",
       "    </tr>\n",
       "    <tr>\n",
       "      <th>4</th>\n",
       "      <td>57</td>\n",
       "      <td>8.0</td>\n",
       "      <td>0</td>\n",
       "      <td>27</td>\n",
       "      <td>55</td>\n",
       "      <td>18</td>\n",
       "      <td>3.0</td>\n",
       "      <td>0.0</td>\n",
       "      <td>3.0</td>\n",
       "      <td>3.0</td>\n",
       "      <td>0</td>\n",
       "      <td>1</td>\n",
       "      <td>1</td>\n",
       "      <td>0</td>\n",
       "    </tr>\n",
       "    <tr>\n",
       "      <th>...</th>\n",
       "      <td>...</td>\n",
       "      <td>...</td>\n",
       "      <td>...</td>\n",
       "      <td>...</td>\n",
       "      <td>...</td>\n",
       "      <td>...</td>\n",
       "      <td>...</td>\n",
       "      <td>...</td>\n",
       "      <td>...</td>\n",
       "      <td>...</td>\n",
       "      <td>...</td>\n",
       "      <td>...</td>\n",
       "      <td>...</td>\n",
       "      <td>...</td>\n",
       "    </tr>\n",
       "    <tr>\n",
       "      <th>613</th>\n",
       "      <td>61</td>\n",
       "      <td>7.0</td>\n",
       "      <td>0</td>\n",
       "      <td>23</td>\n",
       "      <td>23</td>\n",
       "      <td>54</td>\n",
       "      <td>2.0</td>\n",
       "      <td>50.0</td>\n",
       "      <td>5.0</td>\n",
       "      <td>0.0</td>\n",
       "      <td>1</td>\n",
       "      <td>0</td>\n",
       "      <td>1</td>\n",
       "      <td>0</td>\n",
       "    </tr>\n",
       "    <tr>\n",
       "      <th>614</th>\n",
       "      <td>30</td>\n",
       "      <td>8.0</td>\n",
       "      <td>1</td>\n",
       "      <td>22</td>\n",
       "      <td>63</td>\n",
       "      <td>15</td>\n",
       "      <td>1.0</td>\n",
       "      <td>75.0</td>\n",
       "      <td>0.0</td>\n",
       "      <td>2.0</td>\n",
       "      <td>1</td>\n",
       "      <td>0</td>\n",
       "      <td>0</td>\n",
       "      <td>1</td>\n",
       "    </tr>\n",
       "    <tr>\n",
       "      <th>615</th>\n",
       "      <td>48</td>\n",
       "      <td>6.0</td>\n",
       "      <td>0</td>\n",
       "      <td>24</td>\n",
       "      <td>60</td>\n",
       "      <td>16</td>\n",
       "      <td>4.0</td>\n",
       "      <td>0.0</td>\n",
       "      <td>0.0</td>\n",
       "      <td>2.0</td>\n",
       "      <td>0</td>\n",
       "      <td>1</td>\n",
       "      <td>0</td>\n",
       "      <td>1</td>\n",
       "    </tr>\n",
       "    <tr>\n",
       "      <th>616</th>\n",
       "      <td>32</td>\n",
       "      <td>5.0</td>\n",
       "      <td>1</td>\n",
       "      <td>20</td>\n",
       "      <td>65</td>\n",
       "      <td>15</td>\n",
       "      <td>1.0</td>\n",
       "      <td>25.0</td>\n",
       "      <td>1.0</td>\n",
       "      <td>0.0</td>\n",
       "      <td>1</td>\n",
       "      <td>0</td>\n",
       "      <td>1</td>\n",
       "      <td>0</td>\n",
       "    </tr>\n",
       "    <tr>\n",
       "      <th>617</th>\n",
       "      <td>52</td>\n",
       "      <td>7.0</td>\n",
       "      <td>0</td>\n",
       "      <td>23</td>\n",
       "      <td>57</td>\n",
       "      <td>20</td>\n",
       "      <td>1.0</td>\n",
       "      <td>0.0</td>\n",
       "      <td>0.0</td>\n",
       "      <td>0.0</td>\n",
       "      <td>0</td>\n",
       "      <td>1</td>\n",
       "      <td>0</td>\n",
       "      <td>1</td>\n",
       "    </tr>\n",
       "  </tbody>\n",
       "</table>\n",
       "<p>618 rows × 14 columns</p>\n",
       "</div>"
      ],
      "text/plain": [
       "     Age  Sleep duration  Sleep efficiency  REM sleep percentage  \\\n",
       "0     65             6.0                 1                    18   \n",
       "1     69             7.0                 0                    19   \n",
       "2     40             8.0                 1                    20   \n",
       "3     40             6.0                 0                    23   \n",
       "4     57             8.0                 0                    27   \n",
       "..   ...             ...               ...                   ...   \n",
       "613   61             7.0                 0                    23   \n",
       "614   30             8.0                 1                    22   \n",
       "615   48             6.0                 0                    24   \n",
       "616   32             5.0                 1                    20   \n",
       "617   52             7.0                 0                    23   \n",
       "\n",
       "     Deep sleep percentage  Light sleep percentage  Awakenings  \\\n",
       "0                       70                      12         0.0   \n",
       "1                       28                      53         3.0   \n",
       "2                       70                      10         1.0   \n",
       "3                       25                      52         3.0   \n",
       "4                       55                      18         3.0   \n",
       "..                     ...                     ...         ...   \n",
       "613                     23                      54         2.0   \n",
       "614                     63                      15         1.0   \n",
       "615                     60                      16         4.0   \n",
       "616                     65                      15         1.0   \n",
       "617                     57                      20         1.0   \n",
       "\n",
       "     Caffeine consumption  Alcohol consumption  Exercise frequency  \\\n",
       "0                     0.0                  0.0                 3.0   \n",
       "1                     0.0                  3.0                 3.0   \n",
       "2                     0.0                  0.0                 3.0   \n",
       "3                    50.0                  5.0                 1.0   \n",
       "4                     0.0                  3.0                 3.0   \n",
       "..                    ...                  ...                 ...   \n",
       "613                  50.0                  5.0                 0.0   \n",
       "614                  75.0                  0.0                 2.0   \n",
       "615                   0.0                  0.0                 2.0   \n",
       "616                  25.0                  1.0                 0.0   \n",
       "617                   0.0                  0.0                 0.0   \n",
       "\n",
       "     Gender_Female  Gender_Male  Smoking status_No  Smoking status_Yes  \n",
       "0                1            0                  0                   1  \n",
       "1                0            1                  0                   1  \n",
       "2                1            0                  1                   0  \n",
       "3                1            0                  0                   1  \n",
       "4                0            1                  1                   0  \n",
       "..             ...          ...                ...                 ...  \n",
       "613              1            0                  1                   0  \n",
       "614              1            0                  0                   1  \n",
       "615              0            1                  0                   1  \n",
       "616              1            0                  1                   0  \n",
       "617              0            1                  0                   1  \n",
       "\n",
       "[618 rows x 14 columns]"
      ]
     },
     "execution_count": 9,
     "metadata": {},
     "output_type": "execute_result"
    }
   ],
   "source": [
    "sleep_df"
   ]
  },
  {
   "cell_type": "markdown",
   "id": "53838f95",
   "metadata": {},
   "source": [
    "**Create the labels set (y) from the “Sleep efficiency” column, and then create the features (X) DataFrame from the remaining columns.**"
   ]
  },
  {
   "cell_type": "code",
   "execution_count": 10,
   "id": "75bdfe12",
   "metadata": {},
   "outputs": [],
   "source": [
    "# Split our prepocessed  data into our features and target arrays\n",
    "y = sleep_df['Sleep efficiency'].values\n",
    "\n",
    "X = sleep_df.drop(columns=['Sleep efficiency']).values"
   ]
  },
  {
   "cell_type": "markdown",
   "id": "105fb876",
   "metadata": {},
   "source": [
    "**Split the data into training and testing datasets by using train_test_split**"
   ]
  },
  {
   "cell_type": "code",
   "execution_count": 11,
   "id": "53909157",
   "metadata": {},
   "outputs": [],
   "source": [
    "# Split the preprocessed data into a training and testing dataset\n",
    "X_train, X_test, y_train, y_test = train_test_split(X, \n",
    "                                                    y, \n",
    "                                                    random_state=1, \n",
    "                                                    stratify=y)"
   ]
  },
  {
   "cell_type": "code",
   "execution_count": 12,
   "id": "97ed2775",
   "metadata": {},
   "outputs": [],
   "source": [
    "# Create a Standard instances\n",
    "scaler = StandardScaler()\n",
    "\n",
    "# Fit the StandardScaler\n",
    "X_scaler = scaler.fit(X_train)\n",
    "\n",
    "# Scale the data\n",
    "X_train_scaled = X_scaler.transform(X_train)\n",
    "X_test_scaled = X_scaler.transform(X_test)"
   ]
  },
  {
   "cell_type": "markdown",
   "id": "da48ba8b",
   "metadata": {},
   "source": [
    "# Optimizing Model with original Dataset (Accuracy: 58%)"
   ]
  },
  {
   "cell_type": "code",
   "execution_count": 13,
   "id": "24bc49db",
   "metadata": {},
   "outputs": [
    {
     "name": "stdout",
     "output_type": "stream",
     "text": [
      "Model: \"sequential\"\n",
      "_________________________________________________________________\n",
      " Layer (type)                Output Shape              Param #   \n",
      "=================================================================\n",
      " dense (Dense)               (None, 8)                 112       \n",
      "                                                                 \n",
      " dense_1 (Dense)             (None, 5)                 45        \n",
      "                                                                 \n",
      " dense_2 (Dense)             (None, 1)                 6         \n",
      "                                                                 \n",
      "=================================================================\n",
      "Total params: 163 (652.00 Byte)\n",
      "Trainable params: 163 (652.00 Byte)\n",
      "Non-trainable params: 0 (0.00 Byte)\n",
      "_________________________________________________________________\n"
     ]
    }
   ],
   "source": [
    "# Define the model - deep neural net, i.e., the number of input features and hidden nodes for each layer.\n",
    "\n",
    "number_input_features = len(X_train[0])\n",
    "hidden_nodes_layer1 =  8\n",
    "hidden_nodes_layer2 = 5\n",
    "\n",
    "\n",
    "nn = tf.keras.models.Sequential()\n",
    "\n",
    "# First hidden layer\n",
    "nn.add(\n",
    "    tf.keras.layers.Dense(units=hidden_nodes_layer1, input_dim=number_input_features, activation=\"relu\")\n",
    ")\n",
    "\n",
    "# Second hidden layer\n",
    "nn.add(tf.keras.layers.Dense(units=hidden_nodes_layer2, activation=\"relu\"))\n",
    "\n",
    "# Output layer\n",
    "nn.add(tf.keras.layers.Dense(units=1, activation=\"sigmoid\"))\n",
    "\n",
    "# Check the structure of the model\n",
    "nn.summary()"
   ]
  },
  {
   "cell_type": "code",
   "execution_count": 14,
   "id": "7a26f11b",
   "metadata": {},
   "outputs": [],
   "source": [
    "# Compile the model\n",
    "nn.compile(loss=\"binary_crossentropy\", optimizer=\"adam\", metrics=[\"accuracy\"])"
   ]
  },
  {
   "cell_type": "code",
   "execution_count": 15,
   "id": "41ff9905",
   "metadata": {},
   "outputs": [
    {
     "name": "stdout",
     "output_type": "stream",
     "text": [
      "Epoch 1/50\n",
      "15/15 [==============================] - 2s 10ms/step - loss: nan - accuracy: 0.5940\n",
      "Epoch 2/50\n",
      "15/15 [==============================] - 0s 4ms/step - loss: nan - accuracy: 0.5853\n",
      "Epoch 3/50\n",
      "15/15 [==============================] - 0s 4ms/step - loss: nan - accuracy: 0.5853\n",
      "Epoch 4/50\n",
      "15/15 [==============================] - 0s 4ms/step - loss: nan - accuracy: 0.5853\n",
      "Epoch 5/50\n",
      "15/15 [==============================] - 0s 4ms/step - loss: nan - accuracy: 0.5853\n",
      "Epoch 6/50\n",
      "15/15 [==============================] - 0s 4ms/step - loss: nan - accuracy: 0.5853\n",
      "Epoch 7/50\n",
      "15/15 [==============================] - 0s 4ms/step - loss: nan - accuracy: 0.5853\n",
      "Epoch 8/50\n",
      "15/15 [==============================] - 0s 4ms/step - loss: nan - accuracy: 0.5853\n",
      "Epoch 9/50\n",
      "15/15 [==============================] - 0s 3ms/step - loss: nan - accuracy: 0.5853\n",
      "Epoch 10/50\n",
      "15/15 [==============================] - 0s 3ms/step - loss: nan - accuracy: 0.5853\n",
      "Epoch 11/50\n",
      "15/15 [==============================] - 0s 5ms/step - loss: nan - accuracy: 0.5853\n",
      "Epoch 12/50\n",
      "15/15 [==============================] - 0s 3ms/step - loss: nan - accuracy: 0.5853\n",
      "Epoch 13/50\n",
      "15/15 [==============================] - 0s 6ms/step - loss: nan - accuracy: 0.5853\n",
      "Epoch 14/50\n",
      "15/15 [==============================] - 0s 6ms/step - loss: nan - accuracy: 0.5853\n",
      "Epoch 15/50\n",
      "15/15 [==============================] - 0s 3ms/step - loss: nan - accuracy: 0.5853\n",
      "Epoch 16/50\n",
      "15/15 [==============================] - 0s 3ms/step - loss: nan - accuracy: 0.5853\n",
      "Epoch 17/50\n",
      "15/15 [==============================] - 0s 4ms/step - loss: nan - accuracy: 0.5853\n",
      "Epoch 18/50\n",
      "15/15 [==============================] - 0s 3ms/step - loss: nan - accuracy: 0.5853\n",
      "Epoch 19/50\n",
      "15/15 [==============================] - 0s 3ms/step - loss: nan - accuracy: 0.5853\n",
      "Epoch 20/50\n",
      "15/15 [==============================] - 0s 3ms/step - loss: nan - accuracy: 0.5853\n",
      "Epoch 21/50\n",
      "15/15 [==============================] - 0s 3ms/step - loss: nan - accuracy: 0.5853\n",
      "Epoch 22/50\n",
      "15/15 [==============================] - 0s 4ms/step - loss: nan - accuracy: 0.5853\n",
      "Epoch 23/50\n",
      "15/15 [==============================] - 0s 4ms/step - loss: nan - accuracy: 0.5853\n",
      "Epoch 24/50\n",
      "15/15 [==============================] - 0s 4ms/step - loss: nan - accuracy: 0.5853\n",
      "Epoch 25/50\n",
      "15/15 [==============================] - 0s 3ms/step - loss: nan - accuracy: 0.5853\n",
      "Epoch 26/50\n",
      "15/15 [==============================] - 0s 4ms/step - loss: nan - accuracy: 0.5853\n",
      "Epoch 27/50\n",
      "15/15 [==============================] - 0s 4ms/step - loss: nan - accuracy: 0.5853\n",
      "Epoch 28/50\n",
      "15/15 [==============================] - 0s 3ms/step - loss: nan - accuracy: 0.5853\n",
      "Epoch 29/50\n",
      "15/15 [==============================] - 0s 4ms/step - loss: nan - accuracy: 0.5853\n",
      "Epoch 30/50\n",
      "15/15 [==============================] - 0s 4ms/step - loss: nan - accuracy: 0.5853\n",
      "Epoch 31/50\n",
      "15/15 [==============================] - 0s 4ms/step - loss: nan - accuracy: 0.5853\n",
      "Epoch 32/50\n",
      "15/15 [==============================] - 0s 4ms/step - loss: nan - accuracy: 0.5853\n",
      "Epoch 33/50\n",
      "15/15 [==============================] - 0s 5ms/step - loss: nan - accuracy: 0.5853\n",
      "Epoch 34/50\n",
      "15/15 [==============================] - 0s 9ms/step - loss: nan - accuracy: 0.5853\n",
      "Epoch 35/50\n",
      "15/15 [==============================] - 0s 3ms/step - loss: nan - accuracy: 0.5853\n",
      "Epoch 36/50\n",
      "15/15 [==============================] - 0s 3ms/step - loss: nan - accuracy: 0.5853\n",
      "Epoch 37/50\n",
      "15/15 [==============================] - 0s 3ms/step - loss: nan - accuracy: 0.5853\n",
      "Epoch 38/50\n",
      "15/15 [==============================] - 0s 3ms/step - loss: nan - accuracy: 0.5853\n",
      "Epoch 39/50\n",
      "15/15 [==============================] - 0s 3ms/step - loss: nan - accuracy: 0.5853\n",
      "Epoch 40/50\n",
      "15/15 [==============================] - 0s 3ms/step - loss: nan - accuracy: 0.5853\n",
      "Epoch 41/50\n",
      "15/15 [==============================] - 0s 5ms/step - loss: nan - accuracy: 0.5853\n",
      "Epoch 42/50\n",
      "15/15 [==============================] - 0s 10ms/step - loss: nan - accuracy: 0.5853\n",
      "Epoch 43/50\n",
      "15/15 [==============================] - 0s 4ms/step - loss: nan - accuracy: 0.5853\n",
      "Epoch 44/50\n",
      "15/15 [==============================] - 0s 3ms/step - loss: nan - accuracy: 0.5853\n",
      "Epoch 45/50\n",
      "15/15 [==============================] - 0s 3ms/step - loss: nan - accuracy: 0.5853\n",
      "Epoch 46/50\n",
      "15/15 [==============================] - 0s 3ms/step - loss: nan - accuracy: 0.5853\n",
      "Epoch 47/50\n",
      "15/15 [==============================] - 0s 3ms/step - loss: nan - accuracy: 0.5853\n",
      "Epoch 48/50\n",
      "15/15 [==============================] - 0s 3ms/step - loss: nan - accuracy: 0.5853\n",
      "Epoch 49/50\n",
      "15/15 [==============================] - 0s 3ms/step - loss: nan - accuracy: 0.5853\n",
      "Epoch 50/50\n",
      "15/15 [==============================] - 0s 2ms/step - loss: nan - accuracy: 0.5853\n"
     ]
    }
   ],
   "source": [
    "# Train the model\n",
    "fit_model = nn.fit(X_train_scaled, y_train, epochs=50)"
   ]
  },
  {
   "cell_type": "code",
   "execution_count": 16,
   "id": "90d7dade",
   "metadata": {},
   "outputs": [
    {
     "name": "stdout",
     "output_type": "stream",
     "text": [
      "5/5 - 0s - loss: nan - accuracy: 0.5871 - 300ms/epoch - 60ms/step\n",
      "Loss: nan, Accuracy: 0.5870967507362366\n"
     ]
    }
   ],
   "source": [
    "# Evaluate the model using the test data\n",
    "model_loss, model_accuracy = nn.evaluate(X_test_scaled,y_test,verbose=2)\n",
    "print(f\"Loss: {model_loss}, Accuracy: {model_accuracy}\")"
   ]
  },
  {
   "cell_type": "markdown",
   "id": "2eb5413f",
   "metadata": {},
   "source": [
    "# Optimizing Model with droping all NaN values (Accuracy: 90%)"
   ]
  },
  {
   "cell_type": "code",
   "execution_count": 17,
   "id": "23b33156",
   "metadata": {},
   "outputs": [],
   "source": [
    "#Dropping rows that have NaN\n",
    "sleep_df = sleep_df.dropna()"
   ]
  },
  {
   "cell_type": "code",
   "execution_count": 18,
   "id": "7216e7b6",
   "metadata": {},
   "outputs": [
    {
     "name": "stdout",
     "output_type": "stream",
     "text": [
      "<class 'pandas.core.frame.DataFrame'>\n",
      "Int64Index: 528 entries, 0 to 617\n",
      "Data columns (total 14 columns):\n",
      " #   Column                  Non-Null Count  Dtype  \n",
      "---  ------                  --------------  -----  \n",
      " 0   Age                     528 non-null    int64  \n",
      " 1   Sleep duration          528 non-null    float64\n",
      " 2   Sleep efficiency        528 non-null    int64  \n",
      " 3   REM sleep percentage    528 non-null    int64  \n",
      " 4   Deep sleep percentage   528 non-null    int64  \n",
      " 5   Light sleep percentage  528 non-null    int64  \n",
      " 6   Awakenings              528 non-null    float64\n",
      " 7   Caffeine consumption    528 non-null    float64\n",
      " 8   Alcohol consumption     528 non-null    float64\n",
      " 9   Exercise frequency      528 non-null    float64\n",
      " 10  Gender_Female           528 non-null    uint8  \n",
      " 11  Gender_Male             528 non-null    uint8  \n",
      " 12  Smoking status_No       528 non-null    uint8  \n",
      " 13  Smoking status_Yes      528 non-null    uint8  \n",
      "dtypes: float64(5), int64(5), uint8(4)\n",
      "memory usage: 47.4 KB\n"
     ]
    }
   ],
   "source": [
    "sleep_df.info()"
   ]
  },
  {
   "cell_type": "code",
   "execution_count": 19,
   "id": "7198897a",
   "metadata": {},
   "outputs": [],
   "source": [
    "# Split our preprocessed data into our features and target arrays\n",
    "y = sleep_df['Sleep efficiency'].values\n",
    "\n",
    "X = sleep_df.drop(columns=['Sleep efficiency']).values"
   ]
  },
  {
   "cell_type": "code",
   "execution_count": 20,
   "id": "9d3d9959",
   "metadata": {},
   "outputs": [],
   "source": [
    "# Split the preprocessed data into a training and testing dataset\n",
    "X_train, X_test, y_train, y_test = train_test_split(X, \n",
    "                                                    y, \n",
    "                                                    random_state=1, \n",
    "                                                    stratify=y)"
   ]
  },
  {
   "cell_type": "code",
   "execution_count": 21,
   "id": "9d3c08db",
   "metadata": {},
   "outputs": [],
   "source": [
    "# Create a StandardScaler instances\n",
    "scaler = StandardScaler()\n",
    "\n",
    "# Fit the StandardScaler\n",
    "X_scaler = scaler.fit(X_train)\n",
    "\n",
    "# Scale the data\n",
    "X_train_scaled = X_scaler.transform(X_train)\n",
    "X_test_scaled = X_scaler.transform(X_test)"
   ]
  },
  {
   "cell_type": "code",
   "execution_count": 22,
   "id": "133dcd1f",
   "metadata": {},
   "outputs": [
    {
     "name": "stdout",
     "output_type": "stream",
     "text": [
      "Model: \"sequential_1\"\n",
      "_________________________________________________________________\n",
      " Layer (type)                Output Shape              Param #   \n",
      "=================================================================\n",
      " dense_3 (Dense)             (None, 8)                 112       \n",
      "                                                                 \n",
      " dense_4 (Dense)             (None, 5)                 45        \n",
      "                                                                 \n",
      " dense_5 (Dense)             (None, 1)                 6         \n",
      "                                                                 \n",
      "=================================================================\n",
      "Total params: 163 (652.00 Byte)\n",
      "Trainable params: 163 (652.00 Byte)\n",
      "Non-trainable params: 0 (0.00 Byte)\n",
      "_________________________________________________________________\n"
     ]
    }
   ],
   "source": [
    "# Define the model - deep neural net, i.e., the number of input features and hidden nodes for each layer.\n",
    "\n",
    "number_input_features = len(X_train[0])\n",
    "hidden_nodes_layer1 =  8\n",
    "hidden_nodes_layer2 = 5\n",
    "\n",
    "\n",
    "nn = tf.keras.models.Sequential()\n",
    "\n",
    "# First hidden layer\n",
    "nn.add(\n",
    "    tf.keras.layers.Dense(units=hidden_nodes_layer1, input_dim=number_input_features, activation=\"relu\")\n",
    ")\n",
    "\n",
    "\n",
    "# Second hidden layer\n",
    "nn.add(tf.keras.layers.Dense(units=hidden_nodes_layer2, activation=\"relu\"))\n",
    "\n",
    "\n",
    "# Output layer\n",
    "nn.add(tf.keras.layers.Dense(units=1, activation=\"sigmoid\"))\n",
    "\n",
    "# Check the structure of the model\n",
    "nn.summary()"
   ]
  },
  {
   "cell_type": "code",
   "execution_count": 23,
   "id": "2cae4553",
   "metadata": {},
   "outputs": [],
   "source": [
    "# Compile the model\n",
    "nn.compile(loss=\"binary_crossentropy\", optimizer=\"adam\", metrics=[\"accuracy\"])"
   ]
  },
  {
   "cell_type": "code",
   "execution_count": 24,
   "id": "6cb2eadc",
   "metadata": {},
   "outputs": [
    {
     "name": "stdout",
     "output_type": "stream",
     "text": [
      "Epoch 1/50\n",
      "13/13 [==============================] - 2s 8ms/step - loss: 0.6326 - accuracy: 0.5960\n",
      "Epoch 2/50\n",
      "13/13 [==============================] - 0s 6ms/step - loss: 0.6085 - accuracy: 0.6035\n",
      "Epoch 3/50\n",
      "13/13 [==============================] - 0s 4ms/step - loss: 0.5901 - accuracy: 0.6263\n",
      "Epoch 4/50\n",
      "13/13 [==============================] - 0s 4ms/step - loss: 0.5747 - accuracy: 0.6364\n",
      "Epoch 5/50\n",
      "13/13 [==============================] - 0s 4ms/step - loss: 0.5602 - accuracy: 0.6490\n",
      "Epoch 6/50\n",
      "13/13 [==============================] - 0s 3ms/step - loss: 0.5465 - accuracy: 0.6566\n",
      "Epoch 7/50\n",
      "13/13 [==============================] - 0s 4ms/step - loss: 0.5330 - accuracy: 0.6818\n",
      "Epoch 8/50\n",
      "13/13 [==============================] - 0s 4ms/step - loss: 0.5194 - accuracy: 0.6944\n",
      "Epoch 9/50\n",
      "13/13 [==============================] - 0s 4ms/step - loss: 0.5065 - accuracy: 0.7020\n",
      "Epoch 10/50\n",
      "13/13 [==============================] - 0s 4ms/step - loss: 0.4939 - accuracy: 0.7121\n",
      "Epoch 11/50\n",
      "13/13 [==============================] - 0s 4ms/step - loss: 0.4813 - accuracy: 0.7247\n",
      "Epoch 12/50\n",
      "13/13 [==============================] - 0s 3ms/step - loss: 0.4685 - accuracy: 0.7449\n",
      "Epoch 13/50\n",
      "13/13 [==============================] - 0s 4ms/step - loss: 0.4559 - accuracy: 0.7879\n",
      "Epoch 14/50\n",
      "13/13 [==============================] - 0s 4ms/step - loss: 0.4442 - accuracy: 0.8258\n",
      "Epoch 15/50\n",
      "13/13 [==============================] - 0s 3ms/step - loss: 0.4323 - accuracy: 0.8384\n",
      "Epoch 16/50\n",
      "13/13 [==============================] - 0s 4ms/step - loss: 0.4206 - accuracy: 0.8460\n",
      "Epoch 17/50\n",
      "13/13 [==============================] - 0s 3ms/step - loss: 0.4095 - accuracy: 0.8535\n",
      "Epoch 18/50\n",
      "13/13 [==============================] - 0s 3ms/step - loss: 0.3985 - accuracy: 0.8535\n",
      "Epoch 19/50\n",
      "13/13 [==============================] - 0s 3ms/step - loss: 0.3882 - accuracy: 0.8586\n",
      "Epoch 20/50\n",
      "13/13 [==============================] - 0s 3ms/step - loss: 0.3783 - accuracy: 0.8662\n",
      "Epoch 21/50\n",
      "13/13 [==============================] - 0s 2ms/step - loss: 0.3684 - accuracy: 0.8737\n",
      "Epoch 22/50\n",
      "13/13 [==============================] - 0s 3ms/step - loss: 0.3593 - accuracy: 0.8763\n",
      "Epoch 23/50\n",
      "13/13 [==============================] - 0s 3ms/step - loss: 0.3494 - accuracy: 0.8838\n",
      "Epoch 24/50\n",
      "13/13 [==============================] - 0s 3ms/step - loss: 0.3406 - accuracy: 0.8864\n",
      "Epoch 25/50\n",
      "13/13 [==============================] - 0s 3ms/step - loss: 0.3312 - accuracy: 0.8864\n",
      "Epoch 26/50\n",
      "13/13 [==============================] - 0s 3ms/step - loss: 0.3221 - accuracy: 0.8838\n",
      "Epoch 27/50\n",
      "13/13 [==============================] - 0s 3ms/step - loss: 0.3135 - accuracy: 0.8889\n",
      "Epoch 28/50\n",
      "13/13 [==============================] - 0s 4ms/step - loss: 0.3052 - accuracy: 0.9040\n",
      "Epoch 29/50\n",
      "13/13 [==============================] - 0s 3ms/step - loss: 0.2967 - accuracy: 0.9091\n",
      "Epoch 30/50\n",
      "13/13 [==============================] - 0s 3ms/step - loss: 0.2891 - accuracy: 0.9066\n",
      "Epoch 31/50\n",
      "13/13 [==============================] - 0s 3ms/step - loss: 0.2816 - accuracy: 0.9066\n",
      "Epoch 32/50\n",
      "13/13 [==============================] - 0s 3ms/step - loss: 0.2740 - accuracy: 0.9066\n",
      "Epoch 33/50\n",
      "13/13 [==============================] - 0s 3ms/step - loss: 0.2667 - accuracy: 0.9091\n",
      "Epoch 34/50\n",
      "13/13 [==============================] - 0s 3ms/step - loss: 0.2602 - accuracy: 0.9091\n",
      "Epoch 35/50\n",
      "13/13 [==============================] - 0s 3ms/step - loss: 0.2547 - accuracy: 0.9066\n",
      "Epoch 36/50\n",
      "13/13 [==============================] - 0s 3ms/step - loss: 0.2483 - accuracy: 0.9116\n",
      "Epoch 37/50\n",
      "13/13 [==============================] - 0s 3ms/step - loss: 0.2432 - accuracy: 0.9167\n",
      "Epoch 38/50\n",
      "13/13 [==============================] - 0s 3ms/step - loss: 0.2375 - accuracy: 0.9217\n",
      "Epoch 39/50\n",
      "13/13 [==============================] - 0s 3ms/step - loss: 0.2321 - accuracy: 0.9268\n",
      "Epoch 40/50\n",
      "13/13 [==============================] - 0s 3ms/step - loss: 0.2272 - accuracy: 0.9293\n",
      "Epoch 41/50\n",
      "13/13 [==============================] - 0s 3ms/step - loss: 0.2232 - accuracy: 0.9268\n",
      "Epoch 42/50\n",
      "13/13 [==============================] - 0s 4ms/step - loss: 0.2184 - accuracy: 0.9318\n",
      "Epoch 43/50\n",
      "13/13 [==============================] - 0s 3ms/step - loss: 0.2142 - accuracy: 0.9318\n",
      "Epoch 44/50\n",
      "13/13 [==============================] - 0s 3ms/step - loss: 0.2100 - accuracy: 0.9318\n",
      "Epoch 45/50\n",
      "13/13 [==============================] - 0s 5ms/step - loss: 0.2060 - accuracy: 0.9343\n",
      "Epoch 46/50\n",
      "13/13 [==============================] - 0s 9ms/step - loss: 0.2019 - accuracy: 0.9369\n",
      "Epoch 47/50\n",
      "13/13 [==============================] - 0s 3ms/step - loss: 0.1982 - accuracy: 0.9369\n",
      "Epoch 48/50\n",
      "13/13 [==============================] - 0s 3ms/step - loss: 0.1948 - accuracy: 0.9369\n",
      "Epoch 49/50\n",
      "13/13 [==============================] - 0s 3ms/step - loss: 0.1914 - accuracy: 0.9369\n",
      "Epoch 50/50\n",
      "13/13 [==============================] - 0s 3ms/step - loss: 0.1878 - accuracy: 0.9369\n"
     ]
    }
   ],
   "source": [
    "# Train the model\n",
    "fit_model = nn.fit(X_train_scaled, y_train, epochs=50)"
   ]
  },
  {
   "cell_type": "code",
   "execution_count": 25,
   "id": "feeb15f5",
   "metadata": {},
   "outputs": [
    {
     "name": "stdout",
     "output_type": "stream",
     "text": [
      "5/5 - 0s - loss: 0.2292 - accuracy: 0.9242 - 248ms/epoch - 50ms/step\n",
      "Loss: 0.22920311987400055, Accuracy: 0.9242424368858337\n"
     ]
    }
   ],
   "source": [
    "# Evaluate the model using the test data\n",
    "model_loss, model_accuracy = nn.evaluate(X_test_scaled,y_test,verbose=2)\n",
    "print(f\"Loss: {model_loss}, Accuracy: {model_accuracy}\")"
   ]
  },
  {
   "cell_type": "markdown",
   "id": "88774ab2",
   "metadata": {},
   "source": [
    "# Optimizing Model with more neurons (Accuracy: 92%)"
   ]
  },
  {
   "cell_type": "code",
   "execution_count": 26,
   "id": "05d46f81",
   "metadata": {},
   "outputs": [
    {
     "name": "stdout",
     "output_type": "stream",
     "text": [
      "Model: \"sequential_2\"\n",
      "_________________________________________________________________\n",
      " Layer (type)                Output Shape              Param #   \n",
      "=================================================================\n",
      " dense_6 (Dense)             (None, 80)                1120      \n",
      "                                                                 \n",
      " dense_7 (Dense)             (None, 80)                6480      \n",
      "                                                                 \n",
      " dense_8 (Dense)             (None, 80)                6480      \n",
      "                                                                 \n",
      " dense_9 (Dense)             (None, 1)                 81        \n",
      "                                                                 \n",
      "=================================================================\n",
      "Total params: 14161 (55.32 KB)\n",
      "Trainable params: 14161 (55.32 KB)\n",
      "Non-trainable params: 0 (0.00 Byte)\n",
      "_________________________________________________________________\n"
     ]
    }
   ],
   "source": [
    "# Create a new neural network model with more neurons\n",
    "nn = tf.keras.models.Sequential()\n",
    "\n",
    "nn.add(tf.keras.layers.Dense(units=80, activation=\"relu\", input_dim=number_input_features))\n",
    "\n",
    "nn.add(tf.keras.layers.Dense(units=80, activation=\"sigmoid\"))\n",
    "\n",
    "nn.add(tf.keras.layers.Dense(units=80, activation=\"sigmoid\"))\n",
    "\n",
    "nn.add(tf.keras.layers.Dense(units=1, activation=\"sigmoid\"))\n",
    "\n",
    "nn.summary()"
   ]
  },
  {
   "cell_type": "code",
   "execution_count": 27,
   "id": "3f5c6c71",
   "metadata": {},
   "outputs": [],
   "source": [
    "nn.compile(loss=\"binary_crossentropy\", optimizer=\"adam\", metrics=[\"accuracy\"])"
   ]
  },
  {
   "cell_type": "code",
   "execution_count": 28,
   "id": "f9fdb0d5",
   "metadata": {},
   "outputs": [
    {
     "name": "stdout",
     "output_type": "stream",
     "text": [
      "Epoch 1/50\n",
      "13/13 [==============================] - 2s 10ms/step - loss: 0.7040 - accuracy: 0.5303\n",
      "Epoch 2/50\n",
      "13/13 [==============================] - 0s 5ms/step - loss: 0.6674 - accuracy: 0.5884\n",
      "Epoch 3/50\n",
      "13/13 [==============================] - 0s 3ms/step - loss: 0.6276 - accuracy: 0.6061\n",
      "Epoch 4/50\n",
      "13/13 [==============================] - 0s 3ms/step - loss: 0.5889 - accuracy: 0.7247\n",
      "Epoch 5/50\n",
      "13/13 [==============================] - 0s 4ms/step - loss: 0.5256 - accuracy: 0.7551\n",
      "Epoch 6/50\n",
      "13/13 [==============================] - 0s 4ms/step - loss: 0.4469 - accuracy: 0.8510\n",
      "Epoch 7/50\n",
      "13/13 [==============================] - 0s 4ms/step - loss: 0.3669 - accuracy: 0.8813\n",
      "Epoch 8/50\n",
      "13/13 [==============================] - 0s 4ms/step - loss: 0.3073 - accuracy: 0.8990\n",
      "Epoch 9/50\n",
      "13/13 [==============================] - 0s 4ms/step - loss: 0.2642 - accuracy: 0.8990\n",
      "Epoch 10/50\n",
      "13/13 [==============================] - 0s 4ms/step - loss: 0.2378 - accuracy: 0.9091\n",
      "Epoch 11/50\n",
      "13/13 [==============================] - 0s 4ms/step - loss: 0.2171 - accuracy: 0.9217\n",
      "Epoch 12/50\n",
      "13/13 [==============================] - 0s 4ms/step - loss: 0.2032 - accuracy: 0.9268\n",
      "Epoch 13/50\n",
      "13/13 [==============================] - 0s 4ms/step - loss: 0.1905 - accuracy: 0.9242\n",
      "Epoch 14/50\n",
      "13/13 [==============================] - 0s 4ms/step - loss: 0.1768 - accuracy: 0.9293\n",
      "Epoch 15/50\n",
      "13/13 [==============================] - 0s 4ms/step - loss: 0.1711 - accuracy: 0.9318\n",
      "Epoch 16/50\n",
      "13/13 [==============================] - 0s 4ms/step - loss: 0.1622 - accuracy: 0.9343\n",
      "Epoch 17/50\n",
      "13/13 [==============================] - 0s 4ms/step - loss: 0.1617 - accuracy: 0.9318\n",
      "Epoch 18/50\n",
      "13/13 [==============================] - 0s 6ms/step - loss: 0.1508 - accuracy: 0.9394\n",
      "Epoch 19/50\n",
      "13/13 [==============================] - 0s 5ms/step - loss: 0.1451 - accuracy: 0.9343\n",
      "Epoch 20/50\n",
      "13/13 [==============================] - 0s 4ms/step - loss: 0.1435 - accuracy: 0.9394\n",
      "Epoch 21/50\n",
      "13/13 [==============================] - 0s 4ms/step - loss: 0.1387 - accuracy: 0.9394\n",
      "Epoch 22/50\n",
      "13/13 [==============================] - 0s 4ms/step - loss: 0.1340 - accuracy: 0.9444\n",
      "Epoch 23/50\n",
      "13/13 [==============================] - 0s 4ms/step - loss: 0.1301 - accuracy: 0.9444\n",
      "Epoch 24/50\n",
      "13/13 [==============================] - 0s 4ms/step - loss: 0.1258 - accuracy: 0.9495\n",
      "Epoch 25/50\n",
      "13/13 [==============================] - 0s 4ms/step - loss: 0.1220 - accuracy: 0.9596\n",
      "Epoch 26/50\n",
      "13/13 [==============================] - 0s 4ms/step - loss: 0.1270 - accuracy: 0.9545\n",
      "Epoch 27/50\n",
      "13/13 [==============================] - 0s 4ms/step - loss: 0.1225 - accuracy: 0.9520\n",
      "Epoch 28/50\n",
      "13/13 [==============================] - 0s 4ms/step - loss: 0.1152 - accuracy: 0.9571\n",
      "Epoch 29/50\n",
      "13/13 [==============================] - 0s 4ms/step - loss: 0.1125 - accuracy: 0.9646\n",
      "Epoch 30/50\n",
      "13/13 [==============================] - 0s 4ms/step - loss: 0.1098 - accuracy: 0.9646\n",
      "Epoch 31/50\n",
      "13/13 [==============================] - 0s 3ms/step - loss: 0.1128 - accuracy: 0.9571\n",
      "Epoch 32/50\n",
      "13/13 [==============================] - 0s 3ms/step - loss: 0.1059 - accuracy: 0.9697\n",
      "Epoch 33/50\n",
      "13/13 [==============================] - 0s 3ms/step - loss: 0.1028 - accuracy: 0.9672\n",
      "Epoch 34/50\n",
      "13/13 [==============================] - 0s 3ms/step - loss: 0.0999 - accuracy: 0.9697\n",
      "Epoch 35/50\n",
      "13/13 [==============================] - 0s 3ms/step - loss: 0.1003 - accuracy: 0.9596\n",
      "Epoch 36/50\n",
      "13/13 [==============================] - 0s 3ms/step - loss: 0.0970 - accuracy: 0.9697\n",
      "Epoch 37/50\n",
      "13/13 [==============================] - 0s 3ms/step - loss: 0.0949 - accuracy: 0.9672\n",
      "Epoch 38/50\n",
      "13/13 [==============================] - 0s 3ms/step - loss: 0.0932 - accuracy: 0.9798\n",
      "Epoch 39/50\n",
      "13/13 [==============================] - 0s 3ms/step - loss: 0.0910 - accuracy: 0.9672\n",
      "Epoch 40/50\n",
      "13/13 [==============================] - 0s 3ms/step - loss: 0.0910 - accuracy: 0.9722\n",
      "Epoch 41/50\n",
      "13/13 [==============================] - 0s 3ms/step - loss: 0.0871 - accuracy: 0.9747\n",
      "Epoch 42/50\n",
      "13/13 [==============================] - 0s 3ms/step - loss: 0.0851 - accuracy: 0.9823\n",
      "Epoch 43/50\n",
      "13/13 [==============================] - 0s 3ms/step - loss: 0.0820 - accuracy: 0.9798\n",
      "Epoch 44/50\n",
      "13/13 [==============================] - 0s 3ms/step - loss: 0.0820 - accuracy: 0.9773\n",
      "Epoch 45/50\n",
      "13/13 [==============================] - 0s 3ms/step - loss: 0.0813 - accuracy: 0.9798\n",
      "Epoch 46/50\n",
      "13/13 [==============================] - 0s 3ms/step - loss: 0.0785 - accuracy: 0.9798\n",
      "Epoch 47/50\n",
      "13/13 [==============================] - 0s 3ms/step - loss: 0.0781 - accuracy: 0.9823\n",
      "Epoch 48/50\n",
      "13/13 [==============================] - 0s 3ms/step - loss: 0.0761 - accuracy: 0.9773\n",
      "Epoch 49/50\n",
      "13/13 [==============================] - 0s 3ms/step - loss: 0.0770 - accuracy: 0.9848\n",
      "Epoch 50/50\n",
      "13/13 [==============================] - 0s 3ms/step - loss: 0.0760 - accuracy: 0.9773\n"
     ]
    }
   ],
   "source": [
    "fit_model = nn.fit(X_train_scaled, y_train, epochs=50)"
   ]
  },
  {
   "cell_type": "code",
   "execution_count": 29,
   "id": "b6f6ad03",
   "metadata": {},
   "outputs": [
    {
     "name": "stdout",
     "output_type": "stream",
     "text": [
      "5/5 - 0s - loss: 0.2738 - accuracy: 0.9394 - 296ms/epoch - 59ms/step\n",
      "Loss: 0.2737595736980438, Accuracy: 0.939393937587738\n"
     ]
    }
   ],
   "source": [
    "# Evaluate the model using the test data\n",
    "model_loss, model_accuracy = nn.evaluate(X_test_scaled,y_test,verbose=2)\n",
    "print(f\"Loss: {model_loss}, Accuracy: {model_accuracy}\")"
   ]
  },
  {
   "cell_type": "markdown",
   "id": "af4eae19",
   "metadata": {},
   "source": [
    "# Logistic Regression"
   ]
  },
  {
   "cell_type": "markdown",
   "id": "d9b57c4c",
   "metadata": {},
   "source": [
    "**Create the labels set (y) from the “Sleep efficiency” column, and then create the features (X) DataFrame from the remaining columns.**"
   ]
  },
  {
   "cell_type": "code",
   "execution_count": 30,
   "id": "fe5cf7c5",
   "metadata": {},
   "outputs": [],
   "source": [
    "# Separate the data into labels and features\n",
    "# Separate the y variable, the labels\n",
    "y = sleep_df['Sleep efficiency']\n",
    "# Separate the X variable, the features\n",
    "x = sleep_df.drop(columns=['Sleep efficiency']).values"
   ]
  },
  {
   "cell_type": "code",
   "execution_count": 31,
   "id": "5d2b90a8",
   "metadata": {},
   "outputs": [
    {
     "data": {
      "text/plain": [
       "0    1\n",
       "1    0\n",
       "2    1\n",
       "3    0\n",
       "4    0\n",
       "Name: Sleep efficiency, dtype: int64"
      ]
     },
     "execution_count": 31,
     "metadata": {},
     "output_type": "execute_result"
    }
   ],
   "source": [
    "# Review the y variable Series\n",
    "y[:5]"
   ]
  },
  {
   "cell_type": "code",
   "execution_count": 32,
   "id": "fe8bfe4f",
   "metadata": {},
   "outputs": [
    {
     "data": {
      "text/plain": [
       "array([[65.,  6., 18., 70., 12.,  0.,  0.,  0.,  3.,  1.,  0.,  0.,  1.],\n",
       "       [69.,  7., 19., 28., 53.,  3.,  0.,  3.,  3.,  0.,  1.,  0.,  1.],\n",
       "       [40.,  8., 20., 70., 10.,  1.,  0.,  0.,  3.,  1.,  0.,  1.,  0.],\n",
       "       [40.,  6., 23., 25., 52.,  3., 50.,  5.,  1.,  1.,  0.,  0.,  1.],\n",
       "       [57.,  8., 27., 55., 18.,  3.,  0.,  3.,  3.,  0.,  1.,  1.,  0.]])"
      ]
     },
     "execution_count": 32,
     "metadata": {},
     "output_type": "execute_result"
    }
   ],
   "source": [
    "# Review the X variable DataFrame\n",
    "x[:5]"
   ]
  },
  {
   "cell_type": "markdown",
   "id": "3ac61219",
   "metadata": {},
   "source": [
    "**Check the balance of the labels variable (y) by using the value_counts function.**"
   ]
  },
  {
   "cell_type": "code",
   "execution_count": 33,
   "id": "3d4a2a12",
   "metadata": {},
   "outputs": [
    {
     "data": {
      "text/plain": [
       "0    310\n",
       "1    218\n",
       "Name: Sleep efficiency, dtype: int64"
      ]
     },
     "execution_count": 33,
     "metadata": {},
     "output_type": "execute_result"
    }
   ],
   "source": [
    "# Check the balance of our target values\n",
    "y.value_counts()"
   ]
  },
  {
   "cell_type": "markdown",
   "id": "59cd31dc",
   "metadata": {},
   "source": [
    "**Check the balance of the labels variable (y) by using the value_counts function.**"
   ]
  },
  {
   "cell_type": "code",
   "execution_count": 34,
   "id": "0ae3d448",
   "metadata": {},
   "outputs": [],
   "source": [
    "# Split the data using train_test_split\n",
    "# Assign a random_state of 1 to the function\n",
    "X_train, X_test, y_train, y_test = train_test_split(x, y, random_state=1)"
   ]
  },
  {
   "cell_type": "markdown",
   "id": "888f6938",
   "metadata": {},
   "source": [
    "**Create a Logistic Regression Model with the Original Data**"
   ]
  },
  {
   "cell_type": "markdown",
   "id": "726f45c4",
   "metadata": {},
   "source": [
    "**Fit a logistic regression model by using the training data (X_train and y_train).**"
   ]
  },
  {
   "cell_type": "code",
   "execution_count": 35,
   "id": "25606273",
   "metadata": {},
   "outputs": [
    {
     "data": {
      "text/html": [
       "<style>#sk-container-id-1 {color: black;background-color: white;}#sk-container-id-1 pre{padding: 0;}#sk-container-id-1 div.sk-toggleable {background-color: white;}#sk-container-id-1 label.sk-toggleable__label {cursor: pointer;display: block;width: 100%;margin-bottom: 0;padding: 0.3em;box-sizing: border-box;text-align: center;}#sk-container-id-1 label.sk-toggleable__label-arrow:before {content: \"▸\";float: left;margin-right: 0.25em;color: #696969;}#sk-container-id-1 label.sk-toggleable__label-arrow:hover:before {color: black;}#sk-container-id-1 div.sk-estimator:hover label.sk-toggleable__label-arrow:before {color: black;}#sk-container-id-1 div.sk-toggleable__content {max-height: 0;max-width: 0;overflow: hidden;text-align: left;background-color: #f0f8ff;}#sk-container-id-1 div.sk-toggleable__content pre {margin: 0.2em;color: black;border-radius: 0.25em;background-color: #f0f8ff;}#sk-container-id-1 input.sk-toggleable__control:checked~div.sk-toggleable__content {max-height: 200px;max-width: 100%;overflow: auto;}#sk-container-id-1 input.sk-toggleable__control:checked~label.sk-toggleable__label-arrow:before {content: \"▾\";}#sk-container-id-1 div.sk-estimator input.sk-toggleable__control:checked~label.sk-toggleable__label {background-color: #d4ebff;}#sk-container-id-1 div.sk-label input.sk-toggleable__control:checked~label.sk-toggleable__label {background-color: #d4ebff;}#sk-container-id-1 input.sk-hidden--visually {border: 0;clip: rect(1px 1px 1px 1px);clip: rect(1px, 1px, 1px, 1px);height: 1px;margin: -1px;overflow: hidden;padding: 0;position: absolute;width: 1px;}#sk-container-id-1 div.sk-estimator {font-family: monospace;background-color: #f0f8ff;border: 1px dotted black;border-radius: 0.25em;box-sizing: border-box;margin-bottom: 0.5em;}#sk-container-id-1 div.sk-estimator:hover {background-color: #d4ebff;}#sk-container-id-1 div.sk-parallel-item::after {content: \"\";width: 100%;border-bottom: 1px solid gray;flex-grow: 1;}#sk-container-id-1 div.sk-label:hover label.sk-toggleable__label {background-color: #d4ebff;}#sk-container-id-1 div.sk-serial::before {content: \"\";position: absolute;border-left: 1px solid gray;box-sizing: border-box;top: 0;bottom: 0;left: 50%;z-index: 0;}#sk-container-id-1 div.sk-serial {display: flex;flex-direction: column;align-items: center;background-color: white;padding-right: 0.2em;padding-left: 0.2em;position: relative;}#sk-container-id-1 div.sk-item {position: relative;z-index: 1;}#sk-container-id-1 div.sk-parallel {display: flex;align-items: stretch;justify-content: center;background-color: white;position: relative;}#sk-container-id-1 div.sk-item::before, #sk-container-id-1 div.sk-parallel-item::before {content: \"\";position: absolute;border-left: 1px solid gray;box-sizing: border-box;top: 0;bottom: 0;left: 50%;z-index: -1;}#sk-container-id-1 div.sk-parallel-item {display: flex;flex-direction: column;z-index: 1;position: relative;background-color: white;}#sk-container-id-1 div.sk-parallel-item:first-child::after {align-self: flex-end;width: 50%;}#sk-container-id-1 div.sk-parallel-item:last-child::after {align-self: flex-start;width: 50%;}#sk-container-id-1 div.sk-parallel-item:only-child::after {width: 0;}#sk-container-id-1 div.sk-dashed-wrapped {border: 1px dashed gray;margin: 0 0.4em 0.5em 0.4em;box-sizing: border-box;padding-bottom: 0.4em;background-color: white;}#sk-container-id-1 div.sk-label label {font-family: monospace;font-weight: bold;display: inline-block;line-height: 1.2em;}#sk-container-id-1 div.sk-label-container {text-align: center;}#sk-container-id-1 div.sk-container {/* jupyter's `normalize.less` sets `[hidden] { display: none; }` but bootstrap.min.css set `[hidden] { display: none !important; }` so we also need the `!important` here to be able to override the default hidden behavior on the sphinx rendered scikit-learn.org. See: https://github.com/scikit-learn/scikit-learn/issues/21755 */display: inline-block !important;position: relative;}#sk-container-id-1 div.sk-text-repr-fallback {display: none;}</style><div id=\"sk-container-id-1\" class=\"sk-top-container\"><div class=\"sk-text-repr-fallback\"><pre>LogisticRegression(max_iter=200, random_state=1)</pre><b>In a Jupyter environment, please rerun this cell to show the HTML representation or trust the notebook. <br />On GitHub, the HTML representation is unable to render, please try loading this page with nbviewer.org.</b></div><div class=\"sk-container\" hidden><div class=\"sk-item\"><div class=\"sk-estimator sk-toggleable\"><input class=\"sk-toggleable__control sk-hidden--visually\" id=\"sk-estimator-id-1\" type=\"checkbox\" checked><label for=\"sk-estimator-id-1\" class=\"sk-toggleable__label sk-toggleable__label-arrow\">LogisticRegression</label><div class=\"sk-toggleable__content\"><pre>LogisticRegression(max_iter=200, random_state=1)</pre></div></div></div></div></div>"
      ],
      "text/plain": [
       "LogisticRegression(max_iter=200, random_state=1)"
      ]
     },
     "execution_count": 35,
     "metadata": {},
     "output_type": "execute_result"
    }
   ],
   "source": [
    "# Import the LogisticRegression module from SKLearn\n",
    "from sklearn.linear_model import LogisticRegression\n",
    "\n",
    "# Instantiate the Logistic Regression model\n",
    "# Assign a random_state parameter of 1 to the model\n",
    "logistic_regression_model = LogisticRegression(solver = 'lbfgs', max_iter = 200, random_state=1)\n",
    "# Fit the model using training data\n",
    "logistic_regression_model.fit(X_train, y_train)"
   ]
  },
  {
   "cell_type": "markdown",
   "id": "d632dcdb",
   "metadata": {},
   "source": [
    "**Save the predictions on the testing data labels by using the testing feature data (X_test) and the fitted model.**"
   ]
  },
  {
   "cell_type": "code",
   "execution_count": 36,
   "id": "65849d69",
   "metadata": {},
   "outputs": [],
   "source": [
    "# Make a prediction using the testing data\n",
    "predictions = logistic_regression_model.predict(X_test)"
   ]
  },
  {
   "cell_type": "code",
   "execution_count": 37,
   "id": "ece40fa7",
   "metadata": {},
   "outputs": [
    {
     "data": {
      "text/html": [
       "<div>\n",
       "<style scoped>\n",
       "    .dataframe tbody tr th:only-of-type {\n",
       "        vertical-align: middle;\n",
       "    }\n",
       "\n",
       "    .dataframe tbody tr th {\n",
       "        vertical-align: top;\n",
       "    }\n",
       "\n",
       "    .dataframe thead th {\n",
       "        text-align: right;\n",
       "    }\n",
       "</style>\n",
       "<table border=\"1\" class=\"dataframe\">\n",
       "  <thead>\n",
       "    <tr style=\"text-align: right;\">\n",
       "      <th></th>\n",
       "      <th>y_test</th>\n",
       "      <th>prediction</th>\n",
       "    </tr>\n",
       "  </thead>\n",
       "  <tbody>\n",
       "    <tr>\n",
       "      <th>38</th>\n",
       "      <td>1</td>\n",
       "      <td>1</td>\n",
       "    </tr>\n",
       "    <tr>\n",
       "      <th>415</th>\n",
       "      <td>0</td>\n",
       "      <td>0</td>\n",
       "    </tr>\n",
       "    <tr>\n",
       "      <th>117</th>\n",
       "      <td>0</td>\n",
       "      <td>0</td>\n",
       "    </tr>\n",
       "    <tr>\n",
       "      <th>213</th>\n",
       "      <td>1</td>\n",
       "      <td>1</td>\n",
       "    </tr>\n",
       "    <tr>\n",
       "      <th>206</th>\n",
       "      <td>1</td>\n",
       "      <td>1</td>\n",
       "    </tr>\n",
       "    <tr>\n",
       "      <th>433</th>\n",
       "      <td>1</td>\n",
       "      <td>1</td>\n",
       "    </tr>\n",
       "    <tr>\n",
       "      <th>79</th>\n",
       "      <td>0</td>\n",
       "      <td>0</td>\n",
       "    </tr>\n",
       "    <tr>\n",
       "      <th>550</th>\n",
       "      <td>1</td>\n",
       "      <td>1</td>\n",
       "    </tr>\n",
       "    <tr>\n",
       "      <th>254</th>\n",
       "      <td>0</td>\n",
       "      <td>0</td>\n",
       "    </tr>\n",
       "    <tr>\n",
       "      <th>601</th>\n",
       "      <td>1</td>\n",
       "      <td>1</td>\n",
       "    </tr>\n",
       "  </tbody>\n",
       "</table>\n",
       "</div>"
      ],
      "text/plain": [
       "     y_test  prediction\n",
       "38        1           1\n",
       "415       0           0\n",
       "117       0           0\n",
       "213       1           1\n",
       "206       1           1\n",
       "433       1           1\n",
       "79        0           0\n",
       "550       1           1\n",
       "254       0           0\n",
       "601       1           1"
      ]
     },
     "execution_count": 37,
     "metadata": {},
     "output_type": "execute_result"
    }
   ],
   "source": [
    "# Make a prediction using the testing data\n",
    "y_predictions = logistic_regression_model.predict(X_test)\n",
    "\n",
    "df_results = pd.DataFrame({\n",
    "    \"y_test\": y_test,\n",
    "    \"prediction\": y_predictions\n",
    "})\n",
    "\n",
    "df_results.sample(10)"
   ]
  },
  {
   "cell_type": "markdown",
   "id": "b7680554",
   "metadata": {},
   "source": [
    "**Evaluate the model’s performance**"
   ]
  },
  {
   "cell_type": "code",
   "execution_count": 38,
   "id": "0d71bac0",
   "metadata": {},
   "outputs": [
    {
     "data": {
      "text/plain": [
       "0.8877995642701525"
      ]
     },
     "execution_count": 38,
     "metadata": {},
     "output_type": "execute_result"
    }
   ],
   "source": [
    "# Print the balanced_accuracy score of the model\n",
    "balanced_accuracy_score(y_test, y_predictions)"
   ]
  },
  {
   "cell_type": "code",
   "execution_count": 39,
   "id": "ed9ffa6d",
   "metadata": {},
   "outputs": [
    {
     "data": {
      "text/plain": [
       "array([[66, 15],\n",
       "       [ 2, 49]], dtype=int64)"
      ]
     },
     "execution_count": 39,
     "metadata": {},
     "output_type": "execute_result"
    }
   ],
   "source": [
    "# Generate a confusion matrix for the model\n",
    "confusion_matrix(y_test, y_predictions)"
   ]
  },
  {
   "cell_type": "code",
   "execution_count": 40,
   "id": "227338ce",
   "metadata": {},
   "outputs": [
    {
     "name": "stdout",
     "output_type": "stream",
     "text": [
      "Classification Report:\n",
      "              precision    recall  f1-score   support\n",
      "\n",
      "   Bad_sleep       0.97      0.81      0.89        81\n",
      "  Good_sleep       0.77      0.96      0.85        51\n",
      "\n",
      "    accuracy                           0.87       132\n",
      "   macro avg       0.87      0.89      0.87       132\n",
      "weighted avg       0.89      0.87      0.87       132\n",
      "\n"
     ]
    }
   ],
   "source": [
    "# Print the classification report for the model\n",
    "print(\"Classification Report:\")\n",
    "print(classification_report(y_test, y_predictions, target_names = [\"Bad_sleep\", \"Good_sleep\"]))"
   ]
  },
  {
   "cell_type": "markdown",
   "id": "b62ec890",
   "metadata": {},
   "source": [
    "**Question:** How well does the logistic regression model predict both the `0` (bad_sleep) and `1` (good_sleep) labels?\n",
    "\n",
    "**Answer:** The logistic regression model predict both labels as a positive inpact. The Number of healthy sleeping  is greater than the number of unhealthy sleeping. The model has a good accuracy model of 87%, the precision score for 1 (good sleeping) is 77% and the precision for 0 labels is bad sleep at 97%. The recall score is also quite high at 81% for prediction of 0 labels and 96% for good-sleep  with the label 1."
   ]
  },
  {
   "cell_type": "markdown",
   "id": "e9f357b8",
   "metadata": {},
   "source": [
    "# RandomOverSampled Data"
   ]
  },
  {
   "cell_type": "code",
   "execution_count": 41,
   "id": "b4cd90a5",
   "metadata": {},
   "outputs": [],
   "source": [
    "# Instantiate the random oversampler model\n",
    "# # Assign a random_state parameter of 1 to the model\n",
    "r_model = RandomOverSampler(random_state=1)\n",
    "\n",
    "\n",
    "# Fit the original training data to the random_oversampler model\n",
    "X_resampled, y_resampled = r_model.fit_resample(X_train, y_train)"
   ]
  },
  {
   "cell_type": "code",
   "execution_count": 42,
   "id": "099baeaf",
   "metadata": {},
   "outputs": [
    {
     "name": "stdout",
     "output_type": "stream",
     "text": [
      "Number of distinct values of the resampled labels :  2\n",
      "0    229\n",
      "1    229\n",
      "Name: Sleep efficiency, dtype: int64\n"
     ]
    }
   ],
   "source": [
    "# Count the distinct values of the resampled labels data\n",
    "labels = y_resampled.value_counts()\n",
    "num_distinct_val = len(labels)\n",
    "\n",
    "print(\"Number of distinct values of the resampled labels : \",num_distinct_val )\n",
    "print(labels)"
   ]
  },
  {
   "cell_type": "code",
   "execution_count": 43,
   "id": "55d1d2bd",
   "metadata": {},
   "outputs": [],
   "source": [
    "#Instantiate the Logistic Regression model\n",
    "# Assign a random_state parameter of 1 to the model\n",
    "lr_model = LogisticRegression(solver = 'lbfgs', max_iter = 200, random_state=1)\n",
    "\n",
    "# Fit the model using training data\n",
    "lr_model.fit(X_train, y_train)\n",
    "\n",
    "# Fit the model using the resampled training data\n",
    "lr_model.fit(X_resampled, y_resampled)\n",
    "\n",
    "# Make a prediction using the testing data\n",
    "predictions = lr_model.predict(X_test)"
   ]
  },
  {
   "cell_type": "code",
   "execution_count": 44,
   "id": "06ddcfbb",
   "metadata": {},
   "outputs": [
    {
     "data": {
      "text/plain": [
       "0.8877995642701525"
      ]
     },
     "execution_count": 44,
     "metadata": {},
     "output_type": "execute_result"
    }
   ],
   "source": [
    "# Print the balanced_accuracy score of the model\n",
    "balanced_accuracy_score(y_test, predictions)"
   ]
  },
  {
   "cell_type": "code",
   "execution_count": 45,
   "id": "eeefecd2",
   "metadata": {},
   "outputs": [
    {
     "data": {
      "text/plain": [
       "array([[66, 15],\n",
       "       [ 2, 49]], dtype=int64)"
      ]
     },
     "execution_count": 45,
     "metadata": {},
     "output_type": "execute_result"
    }
   ],
   "source": [
    "# Generate a confusion matrix for the model\n",
    "confusion_matrix(y_test, predictions)"
   ]
  },
  {
   "cell_type": "code",
   "execution_count": 46,
   "id": "acf5d58f",
   "metadata": {},
   "outputs": [
    {
     "name": "stdout",
     "output_type": "stream",
     "text": [
      "Classification Report:\n",
      "              precision    recall  f1-score   support\n",
      "\n",
      "           0       0.97      0.81      0.89        81\n",
      "           1       0.77      0.96      0.85        51\n",
      "\n",
      "    accuracy                           0.87       132\n",
      "   macro avg       0.87      0.89      0.87       132\n",
      "weighted avg       0.89      0.87      0.87       132\n",
      "\n"
     ]
    }
   ],
   "source": [
    "# Print the classification report for the model\n",
    "classification_rep = classification_report(y_test, predictions)\n",
    "print(\"Classification Report:\")\n",
    "print(classification_rep)"
   ]
  },
  {
   "cell_type": "markdown",
   "id": "e882276a",
   "metadata": {},
   "source": [
    "### RandomOverSample gives similar accuracy as Logistic Regression"
   ]
  },
  {
   "cell_type": "code",
   "execution_count": null,
   "id": "11f2e548",
   "metadata": {},
   "outputs": [],
   "source": []
  }
 ],
 "metadata": {
  "kernelspec": {
   "display_name": "Python 3 (ipykernel)",
   "language": "python",
   "name": "python3"
  },
  "language_info": {
   "codemirror_mode": {
    "name": "ipython",
    "version": 3
   },
   "file_extension": ".py",
   "mimetype": "text/x-python",
   "name": "python",
   "nbconvert_exporter": "python",
   "pygments_lexer": "ipython3",
   "version": "3.10.12"
  }
 },
 "nbformat": 4,
 "nbformat_minor": 5
}
