{
  "cells": [
    {
      "cell_type": "code",
      "execution_count": 1,
      "metadata": {
        "colab": {
          "base_uri": "https://localhost:8080/"
        },
        "id": "a_KW73O2e3dw",
        "outputId": "db37cdaa-90f8-486a-f269-e21be58a445a"
      },
      "outputs": [
        {
          "output_type": "stream",
          "name": "stdout",
          "text": [
            "Get:1 https://developer.download.nvidia.com/compute/cuda/repos/ubuntu2204/x86_64  InRelease [1,581 B]\n",
            "Get:2 https://cloud.r-project.org/bin/linux/ubuntu jammy-cran40/ InRelease [3,626 B]\n",
            "Get:3 http://security.ubuntu.com/ubuntu jammy-security InRelease [110 kB]\n",
            "Hit:4 http://archive.ubuntu.com/ubuntu jammy InRelease\n",
            "Get:5 https://developer.download.nvidia.com/compute/cuda/repos/ubuntu2204/x86_64  Packages [633 kB]\n",
            "Get:6 http://archive.ubuntu.com/ubuntu jammy-updates InRelease [119 kB]\n",
            "Hit:7 https://ppa.launchpadcontent.net/c2d4u.team/c2d4u4.0+/ubuntu jammy InRelease\n",
            "Get:8 https://ppa.launchpadcontent.net/deadsnakes/ppa/ubuntu jammy InRelease [18.1 kB]\n",
            "Get:9 http://archive.ubuntu.com/ubuntu jammy-backports InRelease [109 kB]\n",
            "Hit:10 https://ppa.launchpadcontent.net/graphics-drivers/ppa/ubuntu jammy InRelease\n",
            "Get:11 http://security.ubuntu.com/ubuntu jammy-security/restricted amd64 Packages [1,512 kB]\n",
            "Hit:12 https://ppa.launchpadcontent.net/ubuntugis/ppa/ubuntu jammy InRelease\n",
            "Get:13 http://archive.ubuntu.com/ubuntu jammy-updates/main amd64 Packages [1,576 kB]\n",
            "Get:14 https://ppa.launchpadcontent.net/deadsnakes/ppa/ubuntu jammy/main amd64 Packages [28.9 kB]\n",
            "Get:15 http://security.ubuntu.com/ubuntu jammy-security/universe amd64 Packages [1,036 kB]\n",
            "Get:16 http://security.ubuntu.com/ubuntu jammy-security/main amd64 Packages [1,282 kB]\n",
            "Get:17 http://archive.ubuntu.com/ubuntu jammy-updates/restricted amd64 Packages [1,572 kB]\n",
            "Get:18 http://archive.ubuntu.com/ubuntu jammy-updates/universe amd64 Packages [1,304 kB]\n",
            "Get:19 http://archive.ubuntu.com/ubuntu jammy-backports/universe amd64 Packages [32.6 kB]\n",
            "Fetched 9,338 kB in 2s (4,193 kB/s)\n",
            "Reading package lists... Done\n"
          ]
        }
      ],
      "source": [
        "#Project Submission File\n",
        "import os\n",
        "# Find the latest version of spark 3.x  from http://www.apache.org/dist/spark/ and enter as the spark version\n",
        "# For example:\n",
        "# spark_version = 'spark-3.4.0'\n",
        "spark_version = 'spark-3.5.0'\n",
        "os.environ['SPARK_VERSION']=spark_version\n",
        "\n",
        "# Install Spark and Java\n",
        "!apt-get update\n",
        "!apt-get install openjdk-11-jdk-headless -qq > /dev/null\n",
        "!wget -q http://www.apache.org/dist/spark/$SPARK_VERSION/$SPARK_VERSION-bin-hadoop3.tgz\n",
        "!tar xf $SPARK_VERSION-bin-hadoop3.tgz\n",
        "!pip install -q findspark\n",
        "\n",
        "# Set Environment Variables\n",
        "os.environ[\"JAVA_HOME\"] = \"/usr/lib/jvm/java-11-openjdk-amd64\"\n",
        "os.environ[\"SPARK_HOME\"] = f\"/content/{spark_version}-bin-hadoop3\"\n",
        "\n",
        "# Start a SparkSession\n",
        "import findspark\n",
        "findspark.init()"
      ]
    },
    {
      "cell_type": "code",
      "source": [
        "from pyspark.sql import SparkSession\n",
        "spark = SparkSession.builder.appName(\"DataFrameFunctions\").getOrCreate()"
      ],
      "metadata": {
        "id": "Ci4J0OG0lr8s"
      },
      "execution_count": 2,
      "outputs": []
    },
    {
      "cell_type": "code",
      "source": [
        "from pyspark import SparkFiles\n",
        "df = (\"Sleep_Efficiency_Updated.csv\")\n",
        "spark.sparkContext.addFile(df)\n",
        "df = spark.read.csv(SparkFiles.get(\"Sleep_Efficiency_Updated.csv\"), sep=\",\", header=True, ignoreLeadingWhiteSpace=True)\n",
        "\n",
        "# Show DataFrame\n",
        "df.show()"
      ],
      "metadata": {
        "colab": {
          "base_uri": "https://localhost:8080/"
        },
        "id": "uiTQbCB8lxZC",
        "outputId": "f1a45f59-5cb8-4b2e-c431-c78a4cebdc43"
      },
      "execution_count": 3,
      "outputs": [
        {
          "output_type": "stream",
          "name": "stdout",
          "text": [
            "+---+---+------+----------------+----------------+--------------+----------------+--------------------+---------------------+----------------------+----------+--------------------+-------------------+--------------+------------------+\n",
            "| ID|Age|Gender|         Bedtime|     Wakeup time|Sleep duration|Sleep efficiency|REM sleep percentage|Deep sleep percentage|Light sleep percentage|Awakenings|Caffeine consumption|Alcohol consumption|Smoking status|Exercise frequency|\n",
            "+---+---+------+----------------+----------------+--------------+----------------+--------------------+---------------------+----------------------+----------+--------------------+-------------------+--------------+------------------+\n",
            "|  1| 65|Female|06/03/2021 01:00|06/03/2021 07:00|             6|            0.88|                  18|                   70|                    12|         0|                   0|                  0|           Yes|                 3|\n",
            "|  2| 69|  Male|05/12/2021 02:00|05/12/2021 09:00|             7|            0.66|                  19|                   28|                    53|         3|                   0|                  3|           Yes|                 3|\n",
            "|  3| 40|Female|25/05/2021 21:30|25/05/2021 05:30|             8|            0.89|                  20|                   70|                    10|         1|                   0|                  0|            No|                 3|\n",
            "|  4| 40|Female|03/11/2021 02:30|03/11/2021 08:30|             6|            0.51|                  23|                   25|                    52|         3|                  50|                  5|           Yes|                 1|\n",
            "|  5| 57|  Male|13/03/2021 01:00|13/03/2021 09:00|             8|            0.76|                  27|                   55|                    18|         3|                   0|                  3|            No|                 3|\n",
            "|  6| 36|Female|01/07/2021 21:00|01/07/2021 04:30|           7.5|             0.9|                  23|                   60|                    17|         0|                NULL|                  0|            No|                 1|\n",
            "|  7| 27|Female|21/07/2021 21:00|21/07/2021 03:00|             6|            0.54|                  28|                   25|                    47|         2|                  50|                  0|           Yes|                 1|\n",
            "|  8| 53|  Male|16/08/2021 00:30|16/08/2021 10:30|            10|             0.9|                  28|                   52|                    20|         0|                  50|                  0|           Yes|                 3|\n",
            "|  9| 41|Female|05/04/2021 02:30|05/04/2021 08:30|             6|            0.79|                  28|                   55|                    17|         3|                  50|                  0|            No|                 1|\n",
            "| 10| 11|Female|16/09/2021 01:00|16/09/2021 10:00|             9|            0.55|                  18|                   37|                    45|         4|                   0|                  0|            No|                 0|\n",
            "| 11| 50|  Male|28/02/2021 00:30|28/02/2021 08:30|             8|            0.92|                  23|                   57|                    20|         1|                  50|                  0|           Yes|                 3|\n",
            "| 12| 55|  Male|10/03/2021 22:30|10/03/2021 06:00|           7.5|            0.93|                  18|                   60|                    22|         0|                   0|                  0|            No|                 3|\n",
            "| 13| 30|Female|07/08/2021 02:30|07/08/2021 11:30|             9|            0.93|                  24|                   58|                    18|         0|                  50|                  0|            No|                 1|\n",
            "| 14| 28|  Male|25/02/2021 01:00|25/02/2021 09:30|           8.5|            0.64|                  28|                   25|                    47|         4|                   0|                  0|            No|                 3|\n",
            "| 15| 36|Female|03/07/2021 01:30|03/07/2021 10:00|           8.5|            0.54|                  20|                   32|                    48|         2|                  25|                  1|           Yes|                 0|\n",
            "| 16| 32|Female|06/12/2021 22:00|06/12/2021 05:30|           7.5|            0.92|                  25|                   55|                    20|         0|                  50|                  2|            No|                 5|\n",
            "| 17| 21|Female|24/03/2021 01:00|24/03/2021 08:00|             7|            0.54|                  28|                   22|                    50|         4|                   0|                  2|           Yes|                 0|\n",
            "| 18| 40|Female|27/08/2021 23:00|27/08/2021 06:30|           7.5|             0.5|                  18|                   20|                    62|         3|                  50|                  2|           Yes|                 3|\n",
            "| 19| 43|Female|27/07/2021 00:00|27/07/2021 09:00|             9|            0.98|                  20|                   67|                    13|         0|                  25|                  1|            No|                 0|\n",
            "| 20| 52|  Male|03/12/2021 00:30|03/12/2021 07:30|             7|            0.89|                  28|                   52|                    20|      NULL|                  50|                  0|           Yes|                 3|\n",
            "+---+---+------+----------------+----------------+--------------+----------------+--------------------+---------------------+----------------------+----------+--------------------+-------------------+--------------+------------------+\n",
            "only showing top 20 rows\n",
            "\n"
          ]
        }
      ]
    },
    {
      "cell_type": "code",
      "execution_count": 4,
      "metadata": {
        "id": "RoljcJ7WPpnm"
      },
      "outputs": [],
      "source": [
        "# 2. Create a temporary view of the DataFrame.\n",
        "df.createOrReplaceTempView('sleep_efficiency')\n"
      ]
    },
    {
      "cell_type": "code",
      "source": [
        "#display all data from the view\n",
        "Data_sleep_efficiency = \"\"\"\n",
        "SELECT\n",
        " *\n",
        "FROM sleep_efficiency\n",
        "\"\"\"\n",
        "spark.sql(Data_sleep_efficiency).show()"
      ],
      "metadata": {
        "colab": {
          "base_uri": "https://localhost:8080/"
        },
        "id": "3zxN727ooCm8",
        "outputId": "9fd8e8b1-0687-4c60-d55e-415df8111f83"
      },
      "execution_count": 5,
      "outputs": [
        {
          "output_type": "stream",
          "name": "stdout",
          "text": [
            "+---+---+------+----------------+----------------+--------------+----------------+--------------------+---------------------+----------------------+----------+--------------------+-------------------+--------------+------------------+\n",
            "| ID|Age|Gender|         Bedtime|     Wakeup time|Sleep duration|Sleep efficiency|REM sleep percentage|Deep sleep percentage|Light sleep percentage|Awakenings|Caffeine consumption|Alcohol consumption|Smoking status|Exercise frequency|\n",
            "+---+---+------+----------------+----------------+--------------+----------------+--------------------+---------------------+----------------------+----------+--------------------+-------------------+--------------+------------------+\n",
            "|  1| 65|Female|06/03/2021 01:00|06/03/2021 07:00|             6|            0.88|                  18|                   70|                    12|         0|                   0|                  0|           Yes|                 3|\n",
            "|  2| 69|  Male|05/12/2021 02:00|05/12/2021 09:00|             7|            0.66|                  19|                   28|                    53|         3|                   0|                  3|           Yes|                 3|\n",
            "|  3| 40|Female|25/05/2021 21:30|25/05/2021 05:30|             8|            0.89|                  20|                   70|                    10|         1|                   0|                  0|            No|                 3|\n",
            "|  4| 40|Female|03/11/2021 02:30|03/11/2021 08:30|             6|            0.51|                  23|                   25|                    52|         3|                  50|                  5|           Yes|                 1|\n",
            "|  5| 57|  Male|13/03/2021 01:00|13/03/2021 09:00|             8|            0.76|                  27|                   55|                    18|         3|                   0|                  3|            No|                 3|\n",
            "|  6| 36|Female|01/07/2021 21:00|01/07/2021 04:30|           7.5|             0.9|                  23|                   60|                    17|         0|                NULL|                  0|            No|                 1|\n",
            "|  7| 27|Female|21/07/2021 21:00|21/07/2021 03:00|             6|            0.54|                  28|                   25|                    47|         2|                  50|                  0|           Yes|                 1|\n",
            "|  8| 53|  Male|16/08/2021 00:30|16/08/2021 10:30|            10|             0.9|                  28|                   52|                    20|         0|                  50|                  0|           Yes|                 3|\n",
            "|  9| 41|Female|05/04/2021 02:30|05/04/2021 08:30|             6|            0.79|                  28|                   55|                    17|         3|                  50|                  0|            No|                 1|\n",
            "| 10| 11|Female|16/09/2021 01:00|16/09/2021 10:00|             9|            0.55|                  18|                   37|                    45|         4|                   0|                  0|            No|                 0|\n",
            "| 11| 50|  Male|28/02/2021 00:30|28/02/2021 08:30|             8|            0.92|                  23|                   57|                    20|         1|                  50|                  0|           Yes|                 3|\n",
            "| 12| 55|  Male|10/03/2021 22:30|10/03/2021 06:00|           7.5|            0.93|                  18|                   60|                    22|         0|                   0|                  0|            No|                 3|\n",
            "| 13| 30|Female|07/08/2021 02:30|07/08/2021 11:30|             9|            0.93|                  24|                   58|                    18|         0|                  50|                  0|            No|                 1|\n",
            "| 14| 28|  Male|25/02/2021 01:00|25/02/2021 09:30|           8.5|            0.64|                  28|                   25|                    47|         4|                   0|                  0|            No|                 3|\n",
            "| 15| 36|Female|03/07/2021 01:30|03/07/2021 10:00|           8.5|            0.54|                  20|                   32|                    48|         2|                  25|                  1|           Yes|                 0|\n",
            "| 16| 32|Female|06/12/2021 22:00|06/12/2021 05:30|           7.5|            0.92|                  25|                   55|                    20|         0|                  50|                  2|            No|                 5|\n",
            "| 17| 21|Female|24/03/2021 01:00|24/03/2021 08:00|             7|            0.54|                  28|                   22|                    50|         4|                   0|                  2|           Yes|                 0|\n",
            "| 18| 40|Female|27/08/2021 23:00|27/08/2021 06:30|           7.5|             0.5|                  18|                   20|                    62|         3|                  50|                  2|           Yes|                 3|\n",
            "| 19| 43|Female|27/07/2021 00:00|27/07/2021 09:00|             9|            0.98|                  20|                   67|                    13|         0|                  25|                  1|            No|                 0|\n",
            "| 20| 52|  Male|03/12/2021 00:30|03/12/2021 07:30|             7|            0.89|                  28|                   52|                    20|      NULL|                  50|                  0|           Yes|                 3|\n",
            "+---+---+------+----------------+----------------+--------------+----------------+--------------------+---------------------+----------------------+----------+--------------------+-------------------+--------------+------------------+\n",
            "only showing top 20 rows\n",
            "\n"
          ]
        }
      ]
    },
    {
      "cell_type": "code",
      "execution_count": 8,
      "metadata": {
        "id": "L6fkwOeOmqvq",
        "colab": {
          "base_uri": "https://localhost:8080/"
        },
        "outputId": "e982c6f6-c38d-471b-938a-d83d91ea4432"
      },
      "outputs": [
        {
          "output_type": "stream",
          "name": "stdout",
          "text": [
            "+------+--------------------+\n",
            "|Gender|avg_sleep_efficiency|\n",
            "+------+--------------------+\n",
            "|  Male|  0.7929467084639502|\n",
            "|Female|  0.7873913043478261|\n",
            "+------+--------------------+\n",
            "\n"
          ]
        }
      ],
      "source": [
        "# 3. What is the average sleep efficiency of men and women?\n",
        "avg_sleep_efficiency_by_gender = \"\"\"\n",
        "SELECT\n",
        "  Gender,\n",
        "  (avg(`sleep efficiency`)) AS avg_sleep_efficiency\n",
        "FROM sleep_efficiency\n",
        "GROUP BY Gender\n",
        "ORDER BY Gender DESC\n",
        "\"\"\"\n",
        "spark.sql(avg_sleep_efficiency_by_gender).show()\n"
      ]
    },
    {
      "cell_type": "code",
      "execution_count": 13,
      "metadata": {
        "id": "l8p_tUS8h8it",
        "colab": {
          "base_uri": "https://localhost:8080/"
        },
        "outputId": "0e227241-c632-470b-ebc4-3894c8e421e2"
      },
      "outputs": [
        {
          "output_type": "stream",
          "name": "stdout",
          "text": [
            "+------------+\n",
            "|max_Caffeine|\n",
            "+------------+\n",
            "|        NULL|\n",
            "+------------+\n",
            "\n"
          ]
        }
      ],
      "source": [
        "# 4. What is the maximum caffine consumption of people with sleep efficiency >85%?\n",
        "max_sleep_efficiency =  \"\"\"\n",
        "SELECT\n",
        "  MAX(`Caffeine consumption`) AS max_Caffeine\n",
        "FROM sleep_efficiency\n",
        "WHERE \"sleep_efficiency\" > .85\n",
        "and `Caffeine consumption` != 'NULL'\n",
        "\"\"\"\n",
        "spark.sql(max_sleep_efficiency).show()\n"
      ]
    },
    {
      "cell_type": "code",
      "execution_count": 19,
      "metadata": {
        "id": "Y-Eytz64liDU",
        "colab": {
          "base_uri": "https://localhost:8080/"
        },
        "outputId": "df57f13d-d05d-4d00-84af-d7aaa9b9cf54"
      },
      "outputs": [
        {
          "output_type": "stream",
          "name": "stdout",
          "text": [
            "+----------------+------------------+\n",
            "|Sleep_efficiency|Exercise_frequency|\n",
            "+----------------+------------------+\n",
            "|            0.52|                 5|\n",
            "|            0.93|                 5|\n",
            "|             0.9|                 5|\n",
            "|            0.92|                 5|\n",
            "|            0.85|                 5|\n",
            "|            0.87|                 5|\n",
            "|            0.91|                 5|\n",
            "|            0.82|                 4|\n",
            "|            0.91|                 4|\n",
            "|             0.8|                 4|\n",
            "|            0.84|                 4|\n",
            "|             0.9|                 4|\n",
            "|            0.52|                 4|\n",
            "|            0.96|                 4|\n",
            "|            0.87|                 4|\n",
            "|            0.77|                 4|\n",
            "|            0.67|                 4|\n",
            "|            0.76|                 4|\n",
            "|            0.95|                 4|\n",
            "|            0.93|                 4|\n",
            "+----------------+------------------+\n",
            "only showing top 20 rows\n",
            "\n"
          ]
        }
      ],
      "source": [
        "# 5. What is the unique combination of sleep efficiency by exercise frequency for the top 20 exercise frequencies\n",
        "\n",
        "sleep_eff_by_exercise = \"\"\"\n",
        "SELECT Distinct\n",
        "  `sleep efficiency` AS Sleep_efficiency,\n",
        "  `Exercise frequency` AS Exercise_frequency\n",
        "FROM sleep_efficiency\n",
        "order by Exercise_frequency desc\n",
        "\"\"\"\n",
        "spark.sql(sleep_eff_by_exercise).show(20)"
      ]
    },
    {
      "cell_type": "code",
      "execution_count": 20,
      "metadata": {
        "colab": {
          "base_uri": "https://localhost:8080/"
        },
        "id": "GUrfgOX1pCRd",
        "outputId": "8b65ecec-89d1-4df6-ef73-9707f83c0279"
      },
      "outputs": [
        {
          "output_type": "stream",
          "name": "stdout",
          "text": [
            "+---------------------+--------------+------+\n",
            "|max(Sleep efficiency)|smoking_status|gender|\n",
            "+---------------------+--------------+------+\n",
            "|                 0.98|            No|Female|\n",
            "|                 0.99|            No|  Male|\n",
            "|                 0.95|           Yes|Female|\n",
            "|                 0.97|           Yes|  Male|\n",
            "+---------------------+--------------+------+\n",
            "\n"
          ]
        }
      ],
      "source": [
        "# 6. What is the smoking status of people with maximum sleep efficiency by gender\n",
        "\n",
        "sleep_efficiency_smoking_status_by_gender = \"\"\"\n",
        "SELECT\n",
        "  max(`Sleep efficiency`),\n",
        "  `smoking status` as smoking_status,\n",
        "  gender\n",
        "FROM sleep_efficiency\n",
        "GROUP BY smoking_status,gender\n",
        "\"\"\"\n",
        "spark.sql(sleep_efficiency_smoking_status_by_gender).show()\n"
      ]
    },
    {
      "cell_type": "code",
      "execution_count": 21,
      "metadata": {
        "id": "Si-BNruRUGK3",
        "colab": {
          "base_uri": "https://localhost:8080/"
        },
        "outputId": "7eeb9e62-2073-4d16-a612-e7340c047b77"
      },
      "outputs": [
        {
          "output_type": "stream",
          "name": "stdout",
          "text": [
            "+----------------+------------------+------+\n",
            "|Sleep_efficiency|Exercise_frequency|gender|\n",
            "+----------------+------------------+------+\n",
            "|            0.93|                 5|Female|\n",
            "|            0.52|                 5|Female|\n",
            "|            0.91|                 5|Female|\n",
            "|            0.92|                 5|Female|\n",
            "|            0.85|                 5|Female|\n",
            "|            0.87|                 5|Female|\n",
            "|             0.9|                 5|Female|\n",
            "|            0.93|                 4|Female|\n",
            "|            0.88|                 4|  Male|\n",
            "|             0.9|                 4|Female|\n",
            "|            0.91|                 4|Female|\n",
            "|            0.82|                 4|Female|\n",
            "|             0.8|                 4|Female|\n",
            "|            0.95|                 4|  Male|\n",
            "|            0.96|                 4|Female|\n",
            "|            0.81|                 4|Female|\n",
            "|            0.87|                 4|Female|\n",
            "|            0.92|                 4|  Male|\n",
            "|            0.89|                 4|  Male|\n",
            "|            0.92|                 4|Female|\n",
            "+----------------+------------------+------+\n",
            "only showing top 20 rows\n",
            "\n"
          ]
        }
      ],
      "source": [
        "# 5. What is the unique combination of sleep efficiency by exercise frequency for the top 20 exercise frequencies by gender\n",
        "\n",
        "sleep_eff_by_exercise = \"\"\"\n",
        "SELECT Distinct\n",
        "  `sleep efficiency` AS Sleep_efficiency,\n",
        "  `Exercise frequency` AS Exercise_frequency,\n",
        "  gender\n",
        "FROM sleep_efficiency\n",
        "order by Exercise_frequency desc\n",
        "\"\"\"\n",
        "spark.sql(sleep_eff_by_exercise).show(20)"
      ]
    }
  ],
  "metadata": {
    "colab": {
      "provenance": []
    },
    "gpuClass": "standard",
    "kernelspec": {
      "display_name": "Python 3 (ipykernel)",
      "language": "python",
      "name": "python3"
    },
    "language_info": {
      "codemirror_mode": {
        "name": "ipython",
        "version": 3
      },
      "file_extension": ".py",
      "mimetype": "text/x-python",
      "name": "python",
      "nbconvert_exporter": "python",
      "pygments_lexer": "ipython3",
      "version": "3.10.4"
    },
    "nteract": {
      "version": "0.28.0"
    }
  },
  "nbformat": 4,
  "nbformat_minor": 0
}