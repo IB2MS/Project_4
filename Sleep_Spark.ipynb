{
  "nbformat": 4,
  "nbformat_minor": 0,
  "metadata": {
    "colab": {
      "provenance": [],
      "authorship_tag": "ABX9TyN2XqVxAQ3VuW6VOk/fEbZL",
      "include_colab_link": true
    },
    "kernelspec": {
      "name": "python3",
      "display_name": "Python 3"
    },
    "language_info": {
      "name": "python"
    }
  },
  "cells": [
    {
      "cell_type": "markdown",
      "metadata": {
        "id": "view-in-github",
        "colab_type": "text"
      },
      "source": [
        "<a href=\"https://colab.research.google.com/github/IB2MS/Project_4/blob/Potestio_Allison/Sleep_Spark.ipynb\" target=\"_parent\"><img src=\"https://colab.research.google.com/assets/colab-badge.svg\" alt=\"Open In Colab\"/></a>"
      ]
    },
    {
      "cell_type": "code",
      "execution_count": 1,
      "metadata": {
        "colab": {
          "base_uri": "https://localhost:8080/"
        },
        "id": "rH67ptMrbqjk",
        "outputId": "d6d5bf19-c44c-4d0b-a453-1d0b54231218"
      },
      "outputs": [
        {
          "output_type": "stream",
          "name": "stdout",
          "text": [
            "Get:1 https://cloud.r-project.org/bin/linux/ubuntu jammy-cran40/ InRelease [3,626 B]\n",
            "Get:2 https://developer.download.nvidia.com/compute/cuda/repos/ubuntu2204/x86_64  InRelease [1,581 B]\n",
            "Get:3 http://security.ubuntu.com/ubuntu jammy-security InRelease [110 kB]\n",
            "Hit:4 http://archive.ubuntu.com/ubuntu jammy InRelease\n",
            "Get:5 https://developer.download.nvidia.com/compute/cuda/repos/ubuntu2204/x86_64  Packages [633 kB]\n",
            "Get:6 http://archive.ubuntu.com/ubuntu jammy-updates InRelease [119 kB]\n",
            "Get:7 http://security.ubuntu.com/ubuntu jammy-security/main amd64 Packages [1,282 kB]\n",
            "Hit:8 https://ppa.launchpadcontent.net/c2d4u.team/c2d4u4.0+/ubuntu jammy InRelease\n",
            "Get:9 http://security.ubuntu.com/ubuntu jammy-security/restricted amd64 Packages [1,512 kB]\n",
            "Get:10 http://archive.ubuntu.com/ubuntu jammy-backports InRelease [109 kB]\n",
            "Get:11 http://security.ubuntu.com/ubuntu jammy-security/universe amd64 Packages [1,036 kB]\n",
            "Get:12 https://ppa.launchpadcontent.net/deadsnakes/ppa/ubuntu jammy InRelease [18.1 kB]\n",
            "Get:13 http://archive.ubuntu.com/ubuntu jammy-updates/restricted amd64 Packages [1,572 kB]\n",
            "Hit:14 https://ppa.launchpadcontent.net/graphics-drivers/ppa/ubuntu jammy InRelease\n",
            "Hit:15 https://ppa.launchpadcontent.net/ubuntugis/ppa/ubuntu jammy InRelease\n",
            "Get:16 https://ppa.launchpadcontent.net/deadsnakes/ppa/ubuntu jammy/main amd64 Packages [28.5 kB]\n",
            "Get:17 http://archive.ubuntu.com/ubuntu jammy-updates/universe amd64 Packages [1,304 kB]\n",
            "Get:18 http://archive.ubuntu.com/ubuntu jammy-updates/main amd64 Packages [1,576 kB]\n",
            "Get:19 http://archive.ubuntu.com/ubuntu jammy-backports/universe amd64 Packages [32.6 kB]\n",
            "Fetched 9,337 kB in 2s (5,070 kB/s)\n",
            "Reading package lists... Done\n"
          ]
        }
      ],
      "source": [
        "import os\n",
        "import pandas as pd\n",
        "# Find the latest version of spark 3.x  from http://www.apache.org/dist/spark/ and enter as the spark version\n",
        "# For example:\n",
        "# spark_version = 'spark-3.4.0'\n",
        "spark_version = 'spark-3.4.2'\n",
        "os.environ['SPARK_VERSION']=spark_version\n",
        "\n",
        "# Install Spark and Java\n",
        "!apt-get update\n",
        "!apt-get install openjdk-11-jdk-headless -qq > /dev/null\n",
        "!wget -q http://www.apache.org/dist/spark/$SPARK_VERSION/$SPARK_VERSION-bin-hadoop3.tgz\n",
        "!tar xf $SPARK_VERSION-bin-hadoop3.tgz\n",
        "!pip install -q findspark\n",
        "\n",
        "# Set Environment Variables\n",
        "os.environ[\"JAVA_HOME\"] = \"/usr/lib/jvm/java-11-openjdk-amd64\"\n",
        "os.environ[\"SPARK_HOME\"] = f\"/content/{spark_version}-bin-hadoop3\"\n",
        "\n",
        "# Start a SparkSession\n",
        "import findspark\n",
        "findspark.init()"
      ]
    },
    {
      "cell_type": "code",
      "source": [
        "from pyspark.sql import SparkSession\n",
        "from pyspark.sql import Row\n",
        "from pyspark.sql.types import StructType,StructField,StringType, DateType,IntegerType\n",
        "\n",
        "# Create a SparkSession\n",
        "spark = SparkSession.builder.appName(\"SparkSQL\").getOrCreate()"
      ],
      "metadata": {
        "id": "YR3zIDBWc0_q"
      },
      "execution_count": 2,
      "outputs": []
    },
    {
      "cell_type": "code",
      "source": [
        "# Read in data from S3 Buckets\n",
        "from pyspark import SparkFiles\n",
        "#url = \"https://2u-data-curriculum-team.s3.amazonaws.com/dataviz-classroom/v1.2/22-big-data/2/better_netflix_titles.csv\"\n",
        "#spark.sparkContext.addFile(url)\n",
        "df = spark.read.csv((\"Sleep_Efficiency_Updated.csv\"), header=True, inferSchema=True)\n",
        "\n",
        "df.show()"
      ],
      "metadata": {
        "colab": {
          "base_uri": "https://localhost:8080/"
        },
        "id": "eIr2OizQc1CH",
        "outputId": "30512525-ac2e-47e7-f322-bfdb90239bfe"
      },
      "execution_count": 6,
      "outputs": [
        {
          "output_type": "stream",
          "name": "stdout",
          "text": [
            "+---+---+------+----------------+----------------+--------------+----------------+--------------------+---------------------+----------------------+----------+--------------------+-------------------+--------------+------------------+\n",
            "| ID|Age|Gender|         Bedtime|     Wakeup time|Sleep duration|Sleep efficiency|REM sleep percentage|Deep sleep percentage|Light sleep percentage|Awakenings|Caffeine consumption|Alcohol consumption|Smoking status|Exercise frequency|\n",
            "+---+---+------+----------------+----------------+--------------+----------------+--------------------+---------------------+----------------------+----------+--------------------+-------------------+--------------+------------------+\n",
            "|  1| 65|Female|06/03/2021 01:00|06/03/2021 07:00|           6.0|            0.88|                  18|                   70|                    12|         0|                   0|                  0|           Yes|                 3|\n",
            "|  2| 69|  Male|05/12/2021 02:00|05/12/2021 09:00|           7.0|            0.66|                  19|                   28|                    53|         3|                   0|                  3|           Yes|                 3|\n",
            "|  3| 40|Female|25/05/2021 21:30|25/05/2021 05:30|           8.0|            0.89|                  20|                   70|                    10|         1|                   0|                  0|            No|                 3|\n",
            "|  4| 40|Female|03/11/2021 02:30|03/11/2021 08:30|           6.0|            0.51|                  23|                   25|                    52|         3|                  50|                  5|           Yes|                 1|\n",
            "|  5| 57|  Male|13/03/2021 01:00|13/03/2021 09:00|           8.0|            0.76|                  27|                   55|                    18|         3|                   0|                  3|            No|                 3|\n",
            "|  6| 36|Female|01/07/2021 21:00|01/07/2021 04:30|           7.5|             0.9|                  23|                   60|                    17|         0|                null|                  0|            No|                 1|\n",
            "|  7| 27|Female|21/07/2021 21:00|21/07/2021 03:00|           6.0|            0.54|                  28|                   25|                    47|         2|                  50|                  0|           Yes|                 1|\n",
            "|  8| 53|  Male|16/08/2021 00:30|16/08/2021 10:30|          10.0|             0.9|                  28|                   52|                    20|         0|                  50|                  0|           Yes|                 3|\n",
            "|  9| 41|Female|05/04/2021 02:30|05/04/2021 08:30|           6.0|            0.79|                  28|                   55|                    17|         3|                  50|                  0|            No|                 1|\n",
            "| 10| 11|Female|16/09/2021 01:00|16/09/2021 10:00|           9.0|            0.55|                  18|                   37|                    45|         4|                   0|                  0|            No|                 0|\n",
            "| 11| 50|  Male|28/02/2021 00:30|28/02/2021 08:30|           8.0|            0.92|                  23|                   57|                    20|         1|                  50|                  0|           Yes|                 3|\n",
            "| 12| 55|  Male|10/03/2021 22:30|10/03/2021 06:00|           7.5|            0.93|                  18|                   60|                    22|         0|                   0|                  0|            No|                 3|\n",
            "| 13| 30|Female|07/08/2021 02:30|07/08/2021 11:30|           9.0|            0.93|                  24|                   58|                    18|         0|                  50|                  0|            No|                 1|\n",
            "| 14| 28|  Male|25/02/2021 01:00|25/02/2021 09:30|           8.5|            0.64|                  28|                   25|                    47|         4|                   0|                  0|            No|                 3|\n",
            "| 15| 36|Female|03/07/2021 01:30|03/07/2021 10:00|           8.5|            0.54|                  20|                   32|                    48|         2|                  25|                  1|           Yes|                 0|\n",
            "| 16| 32|Female|06/12/2021 22:00|06/12/2021 05:30|           7.5|            0.92|                  25|                   55|                    20|         0|                  50|                  2|            No|                 5|\n",
            "| 17| 21|Female|24/03/2021 01:00|24/03/2021 08:00|           7.0|            0.54|                  28|                   22|                    50|         4|                   0|                  2|           Yes|                 0|\n",
            "| 18| 40|Female|27/08/2021 23:00|27/08/2021 06:30|           7.5|             0.5|                  18|                   20|                    62|         3|                  50|                  2|           Yes|                 3|\n",
            "| 19| 43|Female|27/07/2021 00:00|27/07/2021 09:00|           9.0|            0.98|                  20|                   67|                    13|         0|                  25|                  1|            No|                 0|\n",
            "| 20| 52|  Male|03/12/2021 00:30|03/12/2021 07:30|           7.0|            0.89|                  28|                   52|                    20|      null|                  50|                  0|           Yes|                 3|\n",
            "+---+---+------+----------------+----------------+--------------+----------------+--------------------+---------------------+----------------------+----------+--------------------+-------------------+--------------+------------------+\n",
            "only showing top 20 rows\n",
            "\n"
          ]
        }
      ]
    },
    {
      "cell_type": "code",
      "source": [
        "df.createOrReplaceTempView('sleep')"
      ],
      "metadata": {
        "id": "bwna2RTHc1EY"
      },
      "execution_count": 7,
      "outputs": []
    },
    {
      "cell_type": "code",
      "source": [
        "spark.sql(\"SELECT gender FROM sleep\").show(10)"
      ],
      "metadata": {
        "colab": {
          "base_uri": "https://localhost:8080/"
        },
        "id": "CEkTlb4fc1Gt",
        "outputId": "6e66947d-8d76-4175-952b-2cdc8a616afa"
      },
      "execution_count": 9,
      "outputs": [
        {
          "output_type": "stream",
          "name": "stdout",
          "text": [
            "+------+\n",
            "|gender|\n",
            "+------+\n",
            "|Female|\n",
            "|  Male|\n",
            "|Female|\n",
            "|Female|\n",
            "|  Male|\n",
            "|Female|\n",
            "|Female|\n",
            "|  Male|\n",
            "|Female|\n",
            "|Female|\n",
            "+------+\n",
            "only showing top 10 rows\n",
            "\n"
          ]
        }
      ]
    },
    {
      "cell_type": "code",
      "source": [],
      "metadata": {
        "id": "_jm6PEDqeT1d"
      },
      "execution_count": null,
      "outputs": []
    },
    {
      "cell_type": "code",
      "source": [],
      "metadata": {
        "id": "kmHwpOtxeT3-"
      },
      "execution_count": null,
      "outputs": []
    },
    {
      "cell_type": "code",
      "source": [],
      "metadata": {
        "id": "__6XHhTAeT6g"
      },
      "execution_count": null,
      "outputs": []
    },
    {
      "cell_type": "code",
      "source": [],
      "metadata": {
        "id": "rdQc5NOmeT8u"
      },
      "execution_count": null,
      "outputs": []
    },
    {
      "cell_type": "code",
      "source": [],
      "metadata": {
        "id": "o4InfbRheT_D"
      },
      "execution_count": null,
      "outputs": []
    },
    {
      "cell_type": "code",
      "source": [],
      "metadata": {
        "id": "rkej3or3eUBh"
      },
      "execution_count": null,
      "outputs": []
    }
  ]
}