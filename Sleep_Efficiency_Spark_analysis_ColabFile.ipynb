{
  "cells": [
    {
      "cell_type": "code",
      "execution_count": 1,
      "metadata": {
        "colab": {
          "base_uri": "https://localhost:8080/"
        },
        "id": "a_KW73O2e3dw",
        "outputId": "9b05d14e-06e3-4a84-9f36-5a12cef7f14d"
      },
      "outputs": [
        {
          "output_type": "stream",
          "name": "stdout",
          "text": [
            "\r0% [Working]\r            \rGet:1 http://security.ubuntu.com/ubuntu jammy-security InRelease [110 kB]\n",
            "\r0% [Connecting to archive.ubuntu.com] [1 InRelease 12.7 kB/110 kB 12%] [Waiting for headers] [Connec\r                                                                                                    \rGet:2 https://cloud.r-project.org/bin/linux/ubuntu jammy-cran40/ InRelease [3,626 B]\n",
            "\r0% [Connecting to archive.ubuntu.com] [1 InRelease 14.2 kB/110 kB 13%] [2 InRelease 0 B/3,626 B 0%] \r0% [Connecting to archive.ubuntu.com] [1 InRelease 14.2 kB/110 kB 13%] [Connecting to ppa.launchpadc\r                                                                                                    \rHit:3 https://developer.download.nvidia.com/compute/cuda/repos/ubuntu2204/x86_64  InRelease\n",
            "\r0% [Connecting to archive.ubuntu.com (91.189.91.83)] [1 InRelease 37.3 kB/110 kB 34%] [Connecting to\r                                                                                                    \rHit:4 http://archive.ubuntu.com/ubuntu jammy InRelease\n",
            "Get:5 http://archive.ubuntu.com/ubuntu jammy-updates InRelease [119 kB]\n",
            "Get:6 http://archive.ubuntu.com/ubuntu jammy-backports InRelease [109 kB]\n",
            "Hit:7 https://ppa.launchpadcontent.net/c2d4u.team/c2d4u4.0+/ubuntu jammy InRelease\n",
            "Get:8 http://security.ubuntu.com/ubuntu jammy-security/universe amd64 Packages [1,036 kB]\n",
            "Get:9 http://archive.ubuntu.com/ubuntu jammy-updates/universe amd64 Packages [1,304 kB]\n",
            "Get:10 https://ppa.launchpadcontent.net/deadsnakes/ppa/ubuntu jammy InRelease [18.1 kB]\n",
            "Get:11 http://security.ubuntu.com/ubuntu jammy-security/main amd64 Packages [1,306 kB]\n",
            "Hit:12 https://ppa.launchpadcontent.net/graphics-drivers/ppa/ubuntu jammy InRelease\n",
            "Get:13 http://security.ubuntu.com/ubuntu jammy-security/restricted amd64 Packages [1,547 kB]\n",
            "Get:14 http://archive.ubuntu.com/ubuntu jammy-updates/main amd64 Packages [1,578 kB]\n",
            "Hit:15 https://ppa.launchpadcontent.net/ubuntugis/ppa/ubuntu jammy InRelease\n",
            "Get:16 https://ppa.launchpadcontent.net/deadsnakes/ppa/ubuntu jammy/main amd64 Packages [28.5 kB]\n",
            "Fetched 7,159 kB in 2s (3,380 kB/s)\n",
            "Reading package lists... Done\n"
          ]
        }
      ],
      "source": [
        "#Project Submission File - Team4\n",
        "import os\n",
        "# Find the latest version of spark 3.x  from http://www.apache.org/dist/spark/ and enter as the spark version\n",
        "# For example:\n",
        "# spark_version = 'spark-3.4.0'\n",
        "spark_version = 'spark-3.5.0'\n",
        "os.environ['SPARK_VERSION']=spark_version\n",
        "\n",
        "# Install Spark and Java\n",
        "!apt-get update\n",
        "!apt-get install openjdk-11-jdk-headless -qq > /dev/null\n",
        "!wget -q http://www.apache.org/dist/spark/$SPARK_VERSION/$SPARK_VERSION-bin-hadoop3.tgz\n",
        "!tar xf $SPARK_VERSION-bin-hadoop3.tgz\n",
        "!pip install -q findspark\n",
        "\n",
        "# Set Environment Variables\n",
        "os.environ[\"JAVA_HOME\"] = \"/usr/lib/jvm/java-11-openjdk-amd64\"\n",
        "os.environ[\"SPARK_HOME\"] = f\"/content/{spark_version}-bin-hadoop3\"\n",
        "\n",
        "# Start a SparkSession\n",
        "import findspark\n",
        "findspark.init()"
      ]
    },
    {
      "cell_type": "code",
      "source": [
        "from pyspark.sql import SparkSession\n",
        "spark = SparkSession.builder.appName(\"DataFrameFunctions\").getOrCreate()"
      ],
      "metadata": {
        "id": "Ci4J0OG0lr8s"
      },
      "execution_count": 2,
      "outputs": []
    },
    {
      "cell_type": "code",
      "source": [
        "# Please ensure you have the Sleep_Efficiency_Updated.csv uploaded to the local instance on colab\n",
        "from pyspark import SparkFiles\n",
        "df = (\"Sleep_Efficiency_Updated.csv\")\n",
        "spark.sparkContext.addFile(df)\n",
        "df = spark.read.csv(SparkFiles.get(\"Sleep_Efficiency_Updated.csv\"), sep=\",\", header=True, ignoreLeadingWhiteSpace=True)\n",
        "\n",
        "# Show DataFrame\n",
        "df.show()"
      ],
      "metadata": {
        "colab": {
          "base_uri": "https://localhost:8080/"
        },
        "id": "uiTQbCB8lxZC",
        "outputId": "a0136575-d06e-419e-d741-51cd2a6cd5a3"
      },
      "execution_count": 3,
      "outputs": [
        {
          "output_type": "stream",
          "name": "stdout",
          "text": [
            "+---+---+------+----------------+----------------+--------------+----------------+--------------------+---------------------+----------------------+----------+--------------------+-------------------+--------------+------------------+\n",
            "| ID|Age|Gender|         Bedtime|     Wakeup time|Sleep duration|Sleep efficiency|REM sleep percentage|Deep sleep percentage|Light sleep percentage|Awakenings|Caffeine consumption|Alcohol consumption|Smoking status|Exercise frequency|\n",
            "+---+---+------+----------------+----------------+--------------+----------------+--------------------+---------------------+----------------------+----------+--------------------+-------------------+--------------+------------------+\n",
            "|  1| 65|Female|06/03/2021 01:00|06/03/2021 07:00|             6|            0.88|                  18|                   70|                    12|         0|                   0|                  0|           Yes|                 3|\n",
            "|  2| 69|  Male|05/12/2021 02:00|05/12/2021 09:00|             7|            0.66|                  19|                   28|                    53|         3|                   0|                  3|           Yes|                 3|\n",
            "|  3| 40|Female|25/05/2021 21:30|25/05/2021 05:30|             8|            0.89|                  20|                   70|                    10|         1|                   0|                  0|            No|                 3|\n",
            "|  4| 40|Female|03/11/2021 02:30|03/11/2021 08:30|             6|            0.51|                  23|                   25|                    52|         3|                  50|                  5|           Yes|                 1|\n",
            "|  5| 57|  Male|13/03/2021 01:00|13/03/2021 09:00|             8|            0.76|                  27|                   55|                    18|         3|                   0|                  3|            No|                 3|\n",
            "|  6| 36|Female|01/07/2021 21:00|01/07/2021 04:30|           7.5|             0.9|                  23|                   60|                    17|         0|                NULL|                  0|            No|                 1|\n",
            "|  7| 27|Female|21/07/2021 21:00|21/07/2021 03:00|             6|            0.54|                  28|                   25|                    47|         2|                  50|                  0|           Yes|                 1|\n",
            "|  8| 53|  Male|16/08/2021 00:30|16/08/2021 10:30|            10|             0.9|                  28|                   52|                    20|         0|                  50|                  0|           Yes|                 3|\n",
            "|  9| 41|Female|05/04/2021 02:30|05/04/2021 08:30|             6|            0.79|                  28|                   55|                    17|         3|                  50|                  0|            No|                 1|\n",
            "| 10| 11|Female|16/09/2021 01:00|16/09/2021 10:00|             9|            0.55|                  18|                   37|                    45|         4|                   0|                  0|            No|                 0|\n",
            "| 11| 50|  Male|28/02/2021 00:30|28/02/2021 08:30|             8|            0.92|                  23|                   57|                    20|         1|                  50|                  0|           Yes|                 3|\n",
            "| 12| 55|  Male|10/03/2021 22:30|10/03/2021 06:00|           7.5|            0.93|                  18|                   60|                    22|         0|                   0|                  0|            No|                 3|\n",
            "| 13| 30|Female|07/08/2021 02:30|07/08/2021 11:30|             9|            0.93|                  24|                   58|                    18|         0|                  50|                  0|            No|                 1|\n",
            "| 14| 28|  Male|25/02/2021 01:00|25/02/2021 09:30|           8.5|            0.64|                  28|                   25|                    47|         4|                   0|                  0|            No|                 3|\n",
            "| 15| 36|Female|03/07/2021 01:30|03/07/2021 10:00|           8.5|            0.54|                  20|                   32|                    48|         2|                  25|                  1|           Yes|                 0|\n",
            "| 16| 32|Female|06/12/2021 22:00|06/12/2021 05:30|           7.5|            0.92|                  25|                   55|                    20|         0|                  50|                  2|            No|                 5|\n",
            "| 17| 21|Female|24/03/2021 01:00|24/03/2021 08:00|             7|            0.54|                  28|                   22|                    50|         4|                   0|                  2|           Yes|                 0|\n",
            "| 18| 40|Female|27/08/2021 23:00|27/08/2021 06:30|           7.5|             0.5|                  18|                   20|                    62|         3|                  50|                  2|           Yes|                 3|\n",
            "| 19| 43|Female|27/07/2021 00:00|27/07/2021 09:00|             9|            0.98|                  20|                   67|                    13|         0|                  25|                  1|            No|                 0|\n",
            "| 20| 52|  Male|03/12/2021 00:30|03/12/2021 07:30|             7|            0.89|                  28|                   52|                    20|      NULL|                  50|                  0|           Yes|                 3|\n",
            "+---+---+------+----------------+----------------+--------------+----------------+--------------------+---------------------+----------------------+----------+--------------------+-------------------+--------------+------------------+\n",
            "only showing top 20 rows\n",
            "\n"
          ]
        }
      ]
    },
    {
      "cell_type": "code",
      "execution_count": 4,
      "metadata": {
        "id": "RoljcJ7WPpnm"
      },
      "outputs": [],
      "source": [
        "# 2. Create a temporary view of the DataFrame.\n",
        "df.createOrReplaceTempView('sleep_efficiency')"
      ]
    },
    {
      "cell_type": "code",
      "source": [
        "#display all data from the view to verify with the dataframe\n",
        "#the data analysis through sql includes all data outliers present in the dataset\n",
        "Data_sleep_efficiency = \"\"\"\n",
        "SELECT\n",
        " *\n",
        "FROM sleep_efficiency\n",
        "\"\"\"\n",
        "spark.sql(Data_sleep_efficiency).show()"
      ],
      "metadata": {
        "colab": {
          "base_uri": "https://localhost:8080/"
        },
        "id": "3zxN727ooCm8",
        "outputId": "5236c86a-4089-4211-dd91-861fa63d4682"
      },
      "execution_count": 5,
      "outputs": [
        {
          "output_type": "stream",
          "name": "stdout",
          "text": [
            "+---+---+------+----------------+----------------+--------------+----------------+--------------------+---------------------+----------------------+----------+--------------------+-------------------+--------------+------------------+\n",
            "| ID|Age|Gender|         Bedtime|     Wakeup time|Sleep duration|Sleep efficiency|REM sleep percentage|Deep sleep percentage|Light sleep percentage|Awakenings|Caffeine consumption|Alcohol consumption|Smoking status|Exercise frequency|\n",
            "+---+---+------+----------------+----------------+--------------+----------------+--------------------+---------------------+----------------------+----------+--------------------+-------------------+--------------+------------------+\n",
            "|  1| 65|Female|06/03/2021 01:00|06/03/2021 07:00|             6|            0.88|                  18|                   70|                    12|         0|                   0|                  0|           Yes|                 3|\n",
            "|  2| 69|  Male|05/12/2021 02:00|05/12/2021 09:00|             7|            0.66|                  19|                   28|                    53|         3|                   0|                  3|           Yes|                 3|\n",
            "|  3| 40|Female|25/05/2021 21:30|25/05/2021 05:30|             8|            0.89|                  20|                   70|                    10|         1|                   0|                  0|            No|                 3|\n",
            "|  4| 40|Female|03/11/2021 02:30|03/11/2021 08:30|             6|            0.51|                  23|                   25|                    52|         3|                  50|                  5|           Yes|                 1|\n",
            "|  5| 57|  Male|13/03/2021 01:00|13/03/2021 09:00|             8|            0.76|                  27|                   55|                    18|         3|                   0|                  3|            No|                 3|\n",
            "|  6| 36|Female|01/07/2021 21:00|01/07/2021 04:30|           7.5|             0.9|                  23|                   60|                    17|         0|                NULL|                  0|            No|                 1|\n",
            "|  7| 27|Female|21/07/2021 21:00|21/07/2021 03:00|             6|            0.54|                  28|                   25|                    47|         2|                  50|                  0|           Yes|                 1|\n",
            "|  8| 53|  Male|16/08/2021 00:30|16/08/2021 10:30|            10|             0.9|                  28|                   52|                    20|         0|                  50|                  0|           Yes|                 3|\n",
            "|  9| 41|Female|05/04/2021 02:30|05/04/2021 08:30|             6|            0.79|                  28|                   55|                    17|         3|                  50|                  0|            No|                 1|\n",
            "| 10| 11|Female|16/09/2021 01:00|16/09/2021 10:00|             9|            0.55|                  18|                   37|                    45|         4|                   0|                  0|            No|                 0|\n",
            "| 11| 50|  Male|28/02/2021 00:30|28/02/2021 08:30|             8|            0.92|                  23|                   57|                    20|         1|                  50|                  0|           Yes|                 3|\n",
            "| 12| 55|  Male|10/03/2021 22:30|10/03/2021 06:00|           7.5|            0.93|                  18|                   60|                    22|         0|                   0|                  0|            No|                 3|\n",
            "| 13| 30|Female|07/08/2021 02:30|07/08/2021 11:30|             9|            0.93|                  24|                   58|                    18|         0|                  50|                  0|            No|                 1|\n",
            "| 14| 28|  Male|25/02/2021 01:00|25/02/2021 09:30|           8.5|            0.64|                  28|                   25|                    47|         4|                   0|                  0|            No|                 3|\n",
            "| 15| 36|Female|03/07/2021 01:30|03/07/2021 10:00|           8.5|            0.54|                  20|                   32|                    48|         2|                  25|                  1|           Yes|                 0|\n",
            "| 16| 32|Female|06/12/2021 22:00|06/12/2021 05:30|           7.5|            0.92|                  25|                   55|                    20|         0|                  50|                  2|            No|                 5|\n",
            "| 17| 21|Female|24/03/2021 01:00|24/03/2021 08:00|             7|            0.54|                  28|                   22|                    50|         4|                   0|                  2|           Yes|                 0|\n",
            "| 18| 40|Female|27/08/2021 23:00|27/08/2021 06:30|           7.5|             0.5|                  18|                   20|                    62|         3|                  50|                  2|           Yes|                 3|\n",
            "| 19| 43|Female|27/07/2021 00:00|27/07/2021 09:00|             9|            0.98|                  20|                   67|                    13|         0|                  25|                  1|            No|                 0|\n",
            "| 20| 52|  Male|03/12/2021 00:30|03/12/2021 07:30|             7|            0.89|                  28|                   52|                    20|      NULL|                  50|                  0|           Yes|                 3|\n",
            "+---+---+------+----------------+----------------+--------------+----------------+--------------------+---------------------+----------------------+----------+--------------------+-------------------+--------------+------------------+\n",
            "only showing top 20 rows\n",
            "\n"
          ]
        }
      ]
    },
    {
      "cell_type": "code",
      "execution_count": 6,
      "metadata": {
        "id": "L6fkwOeOmqvq",
        "colab": {
          "base_uri": "https://localhost:8080/"
        },
        "outputId": "2ea607d4-1d74-4297-8f89-1e402be366c0"
      },
      "outputs": [
        {
          "output_type": "stream",
          "name": "stdout",
          "text": [
            "+------+--------------------+\n",
            "|Gender|avg_sleep_efficiency|\n",
            "+------+--------------------+\n",
            "|  Male|  0.7929467084639502|\n",
            "|Female|  0.7873913043478261|\n",
            "+------+--------------------+\n",
            "\n"
          ]
        }
      ],
      "source": [
        "# Now Let's try answering some questions about our data through the power of sql\n",
        "# 3. What is the average sleep efficiency of men and women?\n",
        "avg_sleep_efficiency_by_gender = \"\"\"\n",
        "SELECT\n",
        "  Gender,\n",
        "  (avg(`sleep efficiency`)) AS avg_sleep_efficiency\n",
        "FROM sleep_efficiency\n",
        "GROUP BY Gender\n",
        "ORDER BY Gender DESC\n",
        "\"\"\"\n",
        "spark.sql(avg_sleep_efficiency_by_gender).show()\n"
      ]
    },
    {
      "cell_type": "code",
      "execution_count": 19,
      "metadata": {
        "id": "l8p_tUS8h8it",
        "colab": {
          "base_uri": "https://localhost:8080/"
        },
        "outputId": "0e80128a-46c8-4b72-b0f6-b493f4080f63"
      },
      "outputs": [
        {
          "output_type": "stream",
          "name": "stdout",
          "text": [
            "+------------+\n",
            "|max_Caffeine|\n",
            "+------------+\n",
            "|          75|\n",
            "+------------+\n",
            "\n"
          ]
        }
      ],
      "source": [
        "# 4. What is the maximum caffine consumption of people with sleep efficiency >85%?\n",
        "max_sleep_efficiency =  \"\"\"\n",
        "SELECT\n",
        "  max(`Caffeine consumption`) AS max_Caffeine\n",
        "FROM sleep_efficiency\n",
        "WHERE `Caffeine consumption` is not NULL\n",
        "and  `sleep efficiency` > .85\n",
        "\"\"\"\n",
        "spark.sql(max_sleep_efficiency).show()\n"
      ]
    },
    {
      "cell_type": "code",
      "source": [
        "# 5. What is the average caffine consumption of people with sleep efficiency >85%?\n",
        "avg_sleep_efficiency =  \"\"\"\n",
        "SELECT\n",
        "  avg(`Caffeine consumption`) AS avg_Caffeine\n",
        "FROM sleep_efficiency\n",
        "WHERE `Caffeine consumption` is not NULL\n",
        "and  `sleep efficiency` > .85\n",
        "\"\"\"\n",
        "spark.sql(avg_sleep_efficiency).show()"
      ],
      "metadata": {
        "colab": {
          "base_uri": "https://localhost:8080/"
        },
        "id": "ezBYxL_ZdgXN",
        "outputId": "ed57dee6-8765-41a3-d81b-800a1aea2896"
      },
      "execution_count": 20,
      "outputs": [
        {
          "output_type": "stream",
          "name": "stdout",
          "text": [
            "+------------------+\n",
            "|      max_Caffeine|\n",
            "+------------------+\n",
            "|28.630705394190873|\n",
            "+------------------+\n",
            "\n"
          ]
        }
      ]
    },
    {
      "cell_type": "code",
      "execution_count": 21,
      "metadata": {
        "id": "Y-Eytz64liDU",
        "colab": {
          "base_uri": "https://localhost:8080/"
        },
        "outputId": "dfe0d332-5898-4510-aa2e-96c0cc370d55"
      },
      "outputs": [
        {
          "output_type": "stream",
          "name": "stdout",
          "text": [
            "+----------------+------------------+\n",
            "|Sleep_efficiency|Exercise_frequency|\n",
            "+----------------+------------------+\n",
            "|            0.52|                 5|\n",
            "|            0.93|                 5|\n",
            "|             0.9|                 5|\n",
            "|            0.92|                 5|\n",
            "|            0.85|                 5|\n",
            "|            0.87|                 5|\n",
            "|            0.91|                 5|\n",
            "|            0.82|                 4|\n",
            "|            0.91|                 4|\n",
            "|             0.8|                 4|\n",
            "|            0.84|                 4|\n",
            "|             0.9|                 4|\n",
            "|            0.52|                 4|\n",
            "|            0.96|                 4|\n",
            "|            0.87|                 4|\n",
            "|            0.77|                 4|\n",
            "|            0.67|                 4|\n",
            "|            0.76|                 4|\n",
            "|            0.95|                 4|\n",
            "|            0.93|                 4|\n",
            "+----------------+------------------+\n",
            "only showing top 20 rows\n",
            "\n"
          ]
        }
      ],
      "source": [
        "# 6. What is the unique combination of sleep efficiency by exercise frequency for the top 20 exercise frequencies\n",
        "sleep_eff_by_exercise = \"\"\"\n",
        "SELECT Distinct\n",
        "  `sleep efficiency` AS Sleep_efficiency,\n",
        "  `Exercise frequency` AS Exercise_frequency\n",
        "FROM sleep_efficiency\n",
        "order by Exercise_frequency desc\n",
        "\"\"\"\n",
        "spark.sql(sleep_eff_by_exercise).show(20)"
      ]
    },
    {
      "cell_type": "code",
      "execution_count": 22,
      "metadata": {
        "colab": {
          "base_uri": "https://localhost:8080/"
        },
        "id": "GUrfgOX1pCRd",
        "outputId": "55cbb28a-4b71-4f2a-c37c-0bd40a92455e"
      },
      "outputs": [
        {
          "output_type": "stream",
          "name": "stdout",
          "text": [
            "+---------------------+--------------+------+\n",
            "|max(Sleep efficiency)|smoking_status|gender|\n",
            "+---------------------+--------------+------+\n",
            "|                 0.98|            No|Female|\n",
            "|                 0.99|            No|  Male|\n",
            "|                 0.95|           Yes|Female|\n",
            "|                 0.97|           Yes|  Male|\n",
            "+---------------------+--------------+------+\n",
            "\n"
          ]
        }
      ],
      "source": [
        "# 7. What is the maximum sleep efficiency by smoking status and gender\n",
        "\n",
        "sleep_efficiency_smoking_status_by_gender = \"\"\"\n",
        "SELECT\n",
        "  max(`Sleep efficiency`),\n",
        "  `smoking status` as smoking_status,\n",
        "  gender\n",
        "FROM sleep_efficiency\n",
        "GROUP BY smoking_status,gender\n",
        "\"\"\"\n",
        "spark.sql(sleep_efficiency_smoking_status_by_gender).show()\n"
      ]
    },
    {
      "cell_type": "code",
      "source": [
        "# 8. What is the average sleep efficiency by smoking status and gender\n",
        "\n",
        "sleep_efficiency_smoking_status_by_gender = \"\"\"\n",
        "SELECT\n",
        "  avg(`Sleep efficiency`),\n",
        "  `smoking status` as smoking_status,\n",
        "  gender\n",
        "FROM sleep_efficiency\n",
        "GROUP BY smoking_status,gender\n",
        "\"\"\"\n",
        "spark.sql(sleep_efficiency_smoking_status_by_gender).show()"
      ],
      "metadata": {
        "colab": {
          "base_uri": "https://localhost:8080/"
        },
        "id": "byydYyskeCy1",
        "outputId": "d4c40139-4b47-45f8-826b-a303a7e0b2b9"
      },
      "execution_count": 23,
      "outputs": [
        {
          "output_type": "stream",
          "name": "stdout",
          "text": [
            "+---------------------+--------------+------+\n",
            "|avg(Sleep efficiency)|smoking_status|gender|\n",
            "+---------------------+--------------+------+\n",
            "|   0.8151801801801803|            No|Female|\n",
            "|   0.8175935828877003|            No|  Male|\n",
            "|    0.758030303030303|           Yes|  Male|\n",
            "|    0.707272727272727|           Yes|Female|\n",
            "+---------------------+--------------+------+\n",
            "\n"
          ]
        }
      ]
    },
    {
      "cell_type": "code",
      "source": [
        "# 9. Average sleep by gender and smoking status including outliers\n",
        "sleep_efficiency_smoking_status_by_gender = \"\"\"\n",
        "SELECT\n",
        "  avg(`Sleep efficiency`),\n",
        "  `smoking status` as smoking_status,\n",
        "  gender\n",
        "FROM sleep_efficiency\n",
        "GROUP BY smoking_status,gender\n",
        "\"\"\"\n",
        "spark.sql(sleep_efficiency_smoking_status_by_gender).show()"
      ],
      "metadata": {
        "colab": {
          "base_uri": "https://localhost:8080/"
        },
        "id": "7BztSiKNYrNN",
        "outputId": "5d84b5f7-73f4-4c90-a20a-23eb7e47f3ac"
      },
      "execution_count": 24,
      "outputs": [
        {
          "output_type": "stream",
          "name": "stdout",
          "text": [
            "+---------------------+--------------+------+\n",
            "|avg(Sleep efficiency)|smoking_status|gender|\n",
            "+---------------------+--------------+------+\n",
            "|   0.8151801801801803|            No|Female|\n",
            "|   0.8175935828877003|            No|  Male|\n",
            "|    0.758030303030303|           Yes|  Male|\n",
            "|    0.707272727272727|           Yes|Female|\n",
            "+---------------------+--------------+------+\n",
            "\n"
          ]
        }
      ]
    },
    {
      "cell_type": "code",
      "execution_count": 25,
      "metadata": {
        "id": "Si-BNruRUGK3",
        "colab": {
          "base_uri": "https://localhost:8080/"
        },
        "outputId": "3d8330e7-e437-4643-f5d0-e8ae1cd5f27c"
      },
      "outputs": [
        {
          "output_type": "stream",
          "name": "stdout",
          "text": [
            "+----------------+------------------+------+\n",
            "|Sleep_efficiency|Exercise_frequency|gender|\n",
            "+----------------+------------------+------+\n",
            "|            0.93|                 5|Female|\n",
            "|            0.52|                 5|Female|\n",
            "|            0.91|                 5|Female|\n",
            "|            0.92|                 5|Female|\n",
            "|            0.85|                 5|Female|\n",
            "|            0.87|                 5|Female|\n",
            "|             0.9|                 5|Female|\n",
            "|            0.93|                 4|Female|\n",
            "|            0.88|                 4|  Male|\n",
            "|             0.9|                 4|Female|\n",
            "|            0.91|                 4|Female|\n",
            "|            0.82|                 4|Female|\n",
            "|             0.8|                 4|Female|\n",
            "|            0.95|                 4|  Male|\n",
            "|            0.96|                 4|Female|\n",
            "|            0.81|                 4|Female|\n",
            "|            0.87|                 4|Female|\n",
            "|            0.92|                 4|  Male|\n",
            "|            0.89|                 4|  Male|\n",
            "|            0.92|                 4|Female|\n",
            "+----------------+------------------+------+\n",
            "only showing top 20 rows\n",
            "\n"
          ]
        }
      ],
      "source": [
        "# 10. What is the unique combination of sleep efficiency by exercise frequency for the top 20 exercise frequencies viewed by gender\n",
        "\n",
        "sleep_eff_by_exercise = \"\"\"\n",
        "SELECT Distinct\n",
        "  `sleep efficiency` AS Sleep_efficiency,\n",
        "  `Exercise frequency` AS Exercise_frequency,\n",
        "  gender\n",
        "FROM sleep_efficiency\n",
        "group by Sleep_efficiency,Exercise_frequency,gender\n",
        "order by Exercise_frequency desc\n",
        "\"\"\"\n",
        "spark.sql(sleep_eff_by_exercise).show(20)"
      ]
    }
  ],
  "metadata": {
    "colab": {
      "provenance": []
    },
    "gpuClass": "standard",
    "kernelspec": {
      "display_name": "Python 3 (ipykernel)",
      "language": "python",
      "name": "python3"
    },
    "language_info": {
      "codemirror_mode": {
        "name": "ipython",
        "version": 3
      },
      "file_extension": ".py",
      "mimetype": "text/x-python",
      "name": "python",
      "nbconvert_exporter": "python",
      "pygments_lexer": "ipython3",
      "version": "3.10.4"
    },
    "nteract": {
      "version": "0.28.0"
    }
  },
  "nbformat": 4,
  "nbformat_minor": 0
}