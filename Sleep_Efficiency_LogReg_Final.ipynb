{
 "cells": [
  {
   "cell_type": "code",
   "execution_count": 3,
   "metadata": {
    "id": "lNlMWJ1Syygn"
   },
   "outputs": [],
   "source": [
    "from imblearn.over_sampling import RandomOverSampler\n",
    "import numpy as np\n",
    "import pandas as pd\n",
    "from pathlib import Path\n",
    "from sklearn.metrics import balanced_accuracy_score, confusion_matrix, classification_report"
   ]
  },
  {
   "cell_type": "markdown",
   "metadata": {
    "id": "w4qBNaKryygn"
   },
   "source": [
    "---"
   ]
  },
  {
   "cell_type": "markdown",
   "metadata": {
    "id": "xe1Dq3G_yygo"
   },
   "source": [
    "## Split the Data into Training and Testing Sets"
   ]
  },
  {
   "cell_type": "markdown",
   "metadata": {
    "id": "TOXae83iyygo"
   },
   "source": [
    "### Step 1: Read the `Sleep_Efficiency_Updated.csv` data into a Pandas DataFrame."
   ]
  },
  {
   "cell_type": "code",
   "execution_count": 4,
   "metadata": {
    "colab": {
     "base_uri": "https://localhost:8080/",
     "height": 658
    },
    "id": "H0L2hH9tyygo",
    "outputId": "5e9ce020-0dca-42be-e746-2eb55c93c746"
   },
   "outputs": [
    {
     "data": {
      "text/html": [
       "<div>\n",
       "<style scoped>\n",
       "    .dataframe tbody tr th:only-of-type {\n",
       "        vertical-align: middle;\n",
       "    }\n",
       "\n",
       "    .dataframe tbody tr th {\n",
       "        vertical-align: top;\n",
       "    }\n",
       "\n",
       "    .dataframe thead th {\n",
       "        text-align: right;\n",
       "    }\n",
       "</style>\n",
       "<table border=\"1\" class=\"dataframe\">\n",
       "  <thead>\n",
       "    <tr style=\"text-align: right;\">\n",
       "      <th></th>\n",
       "      <th>ID</th>\n",
       "      <th>Age</th>\n",
       "      <th>Gender</th>\n",
       "      <th>Bedtime</th>\n",
       "      <th>Wakeup time</th>\n",
       "      <th>Sleep duration</th>\n",
       "      <th>Sleep efficiency</th>\n",
       "      <th>REM sleep percentage</th>\n",
       "      <th>Deep sleep percentage</th>\n",
       "      <th>Light sleep percentage</th>\n",
       "      <th>Awakenings</th>\n",
       "      <th>Caffeine consumption</th>\n",
       "      <th>Alcohol consumption</th>\n",
       "      <th>Smoking status</th>\n",
       "      <th>Exercise frequency</th>\n",
       "    </tr>\n",
       "  </thead>\n",
       "  <tbody>\n",
       "    <tr>\n",
       "      <th>0</th>\n",
       "      <td>1</td>\n",
       "      <td>65</td>\n",
       "      <td>Female</td>\n",
       "      <td>06/03/2021 01:00</td>\n",
       "      <td>06/03/2021 07:00</td>\n",
       "      <td>6.0</td>\n",
       "      <td>0.88</td>\n",
       "      <td>18</td>\n",
       "      <td>70</td>\n",
       "      <td>12</td>\n",
       "      <td>0.0</td>\n",
       "      <td>0.0</td>\n",
       "      <td>0.0</td>\n",
       "      <td>Yes</td>\n",
       "      <td>3.0</td>\n",
       "    </tr>\n",
       "    <tr>\n",
       "      <th>1</th>\n",
       "      <td>2</td>\n",
       "      <td>69</td>\n",
       "      <td>Male</td>\n",
       "      <td>05/12/2021 02:00</td>\n",
       "      <td>05/12/2021 09:00</td>\n",
       "      <td>7.0</td>\n",
       "      <td>0.66</td>\n",
       "      <td>19</td>\n",
       "      <td>28</td>\n",
       "      <td>53</td>\n",
       "      <td>3.0</td>\n",
       "      <td>0.0</td>\n",
       "      <td>3.0</td>\n",
       "      <td>Yes</td>\n",
       "      <td>3.0</td>\n",
       "    </tr>\n",
       "    <tr>\n",
       "      <th>2</th>\n",
       "      <td>3</td>\n",
       "      <td>40</td>\n",
       "      <td>Female</td>\n",
       "      <td>25/05/2021 21:30</td>\n",
       "      <td>25/05/2021 05:30</td>\n",
       "      <td>8.0</td>\n",
       "      <td>0.89</td>\n",
       "      <td>20</td>\n",
       "      <td>70</td>\n",
       "      <td>10</td>\n",
       "      <td>1.0</td>\n",
       "      <td>0.0</td>\n",
       "      <td>0.0</td>\n",
       "      <td>No</td>\n",
       "      <td>3.0</td>\n",
       "    </tr>\n",
       "    <tr>\n",
       "      <th>3</th>\n",
       "      <td>4</td>\n",
       "      <td>40</td>\n",
       "      <td>Female</td>\n",
       "      <td>03/11/2021 02:30</td>\n",
       "      <td>03/11/2021 08:30</td>\n",
       "      <td>6.0</td>\n",
       "      <td>0.51</td>\n",
       "      <td>23</td>\n",
       "      <td>25</td>\n",
       "      <td>52</td>\n",
       "      <td>3.0</td>\n",
       "      <td>50.0</td>\n",
       "      <td>5.0</td>\n",
       "      <td>Yes</td>\n",
       "      <td>1.0</td>\n",
       "    </tr>\n",
       "    <tr>\n",
       "      <th>4</th>\n",
       "      <td>5</td>\n",
       "      <td>57</td>\n",
       "      <td>Male</td>\n",
       "      <td>13/03/2021 01:00</td>\n",
       "      <td>13/03/2021 09:00</td>\n",
       "      <td>8.0</td>\n",
       "      <td>0.76</td>\n",
       "      <td>27</td>\n",
       "      <td>55</td>\n",
       "      <td>18</td>\n",
       "      <td>3.0</td>\n",
       "      <td>0.0</td>\n",
       "      <td>3.0</td>\n",
       "      <td>No</td>\n",
       "      <td>3.0</td>\n",
       "    </tr>\n",
       "  </tbody>\n",
       "</table>\n",
       "</div>"
      ],
      "text/plain": [
       "   ID  Age  Gender           Bedtime       Wakeup time  Sleep duration  \\\n",
       "0   1   65  Female  06/03/2021 01:00  06/03/2021 07:00             6.0   \n",
       "1   2   69    Male  05/12/2021 02:00  05/12/2021 09:00             7.0   \n",
       "2   3   40  Female  25/05/2021 21:30  25/05/2021 05:30             8.0   \n",
       "3   4   40  Female  03/11/2021 02:30  03/11/2021 08:30             6.0   \n",
       "4   5   57    Male  13/03/2021 01:00  13/03/2021 09:00             8.0   \n",
       "\n",
       "   Sleep efficiency  REM sleep percentage  Deep sleep percentage  \\\n",
       "0              0.88                    18                     70   \n",
       "1              0.66                    19                     28   \n",
       "2              0.89                    20                     70   \n",
       "3              0.51                    23                     25   \n",
       "4              0.76                    27                     55   \n",
       "\n",
       "   Light sleep percentage  Awakenings  Caffeine consumption  \\\n",
       "0                      12         0.0                   0.0   \n",
       "1                      53         3.0                   0.0   \n",
       "2                      10         1.0                   0.0   \n",
       "3                      52         3.0                  50.0   \n",
       "4                      18         3.0                   0.0   \n",
       "\n",
       "   Alcohol consumption Smoking status  Exercise frequency  \n",
       "0                  0.0            Yes                 3.0  \n",
       "1                  3.0            Yes                 3.0  \n",
       "2                  0.0             No                 3.0  \n",
       "3                  5.0            Yes                 1.0  \n",
       "4                  3.0             No                 3.0  "
      ]
     },
     "execution_count": 4,
     "metadata": {},
     "output_type": "execute_result"
    }
   ],
   "source": [
    "# Read the CSV file into a Pandas DataFrame\n",
    "sleep_df = pd.read_csv('Sleep_Efficiency_Updated.csv')\n",
    "\n",
    "# Review the DataFrame\n",
    "sleep_df.head()"
   ]
  },
  {
   "cell_type": "code",
   "execution_count": 5,
   "metadata": {
    "id": "ZIZNwNws2597"
   },
   "outputs": [],
   "source": [
    "# drop ID, bedtime, wake_time\n",
    "sleep_df = sleep_df.drop(columns=['ID','Bedtime', 'Wakeup time'])"
   ]
  },
  {
   "cell_type": "code",
   "execution_count": 6,
   "metadata": {
    "id": "rBl504HJWJPO"
   },
   "outputs": [],
   "source": [
    "sleep_df = sleep_df.dropna()"
   ]
  },
  {
   "cell_type": "code",
   "execution_count": 7,
   "metadata": {
    "colab": {
     "base_uri": "https://localhost:8080/"
    },
    "id": "yesyHCJ86J0d",
    "outputId": "d14cc353-08b6-4710-ab8d-7d09d45de5a0"
   },
   "outputs": [
    {
     "data": {
      "text/plain": [
       "Age                       60\n",
       "Gender                     2\n",
       "Sleep duration             9\n",
       "Sleep efficiency          50\n",
       "REM sleep percentage      13\n",
       "Deep sleep percentage     28\n",
       "Light sleep percentage    28\n",
       "Awakenings                 5\n",
       "Caffeine consumption       6\n",
       "Alcohol consumption        6\n",
       "Smoking status             2\n",
       "Exercise frequency         6\n",
       "dtype: int64"
      ]
     },
     "execution_count": 7,
     "metadata": {},
     "output_type": "execute_result"
    }
   ],
   "source": [
    "sleep_df.nunique()"
   ]
  },
  {
   "cell_type": "code",
   "execution_count": 8,
   "metadata": {
    "colab": {
     "base_uri": "https://localhost:8080/"
    },
    "id": "DSQ1Cn-g6Opj",
    "outputId": "867355c7-575e-43a3-e633-76b2d3c253c7"
   },
   "outputs": [
    {
     "name": "stdout",
     "output_type": "stream",
     "text": [
      "<class 'pandas.core.frame.DataFrame'>\n",
      "Int64Index: 528 entries, 0 to 617\n",
      "Data columns (total 12 columns):\n",
      " #   Column                  Non-Null Count  Dtype  \n",
      "---  ------                  --------------  -----  \n",
      " 0   Age                     528 non-null    int64  \n",
      " 1   Gender                  528 non-null    object \n",
      " 2   Sleep duration          528 non-null    float64\n",
      " 3   Sleep efficiency        528 non-null    float64\n",
      " 4   REM sleep percentage    528 non-null    int64  \n",
      " 5   Deep sleep percentage   528 non-null    int64  \n",
      " 6   Light sleep percentage  528 non-null    int64  \n",
      " 7   Awakenings              528 non-null    float64\n",
      " 8   Caffeine consumption    528 non-null    float64\n",
      " 9   Alcohol consumption     528 non-null    float64\n",
      " 10  Smoking status          528 non-null    object \n",
      " 11  Exercise frequency      528 non-null    float64\n",
      "dtypes: float64(6), int64(4), object(2)\n",
      "memory usage: 53.6+ KB\n"
     ]
    }
   ],
   "source": [
    "sleep_df.info()"
   ]
  },
  {
   "cell_type": "code",
   "execution_count": 9,
   "metadata": {
    "id": "EkOwDZsx6Tng"
   },
   "outputs": [],
   "source": [
    "# Create dummies\n",
    "sleep_df = pd.get_dummies(sleep_df)"
   ]
  },
  {
   "cell_type": "code",
   "execution_count": 10,
   "metadata": {
    "id": "iAGCGY2f6xYP"
   },
   "outputs": [],
   "source": [
    "sleep_df['Sleep efficiency'] = sleep_df['Sleep efficiency'].apply(lambda x: 1 if x > 0.85 else 0)"
   ]
  },
  {
   "cell_type": "markdown",
   "metadata": {
    "id": "Ghd4Pk_Syygo"
   },
   "source": [
    "### Step 2: Create the labels set (`y`)  from the “Sleep efficiency” column, and then create the features (`X`) DataFrame from the remaining columns."
   ]
  },
  {
   "cell_type": "code",
   "execution_count": 11,
   "metadata": {
    "id": "olx--i2Dyygo"
   },
   "outputs": [],
   "source": [
    "# Separate the data into labels and features\n",
    "# Separate the y variable, the labels\n",
    "y = sleep_df['Sleep efficiency']\n",
    "# Separate the X variable, the features\n",
    "x = sleep_df[['Sleep duration', 'REM sleep percentage', 'Deep sleep percentage', 'Light sleep percentage', 'Awakenings']]"
   ]
  },
  {
   "cell_type": "code",
   "execution_count": 12,
   "metadata": {
    "colab": {
     "base_uri": "https://localhost:8080/"
    },
    "id": "ksa-zNZ6yygp",
    "outputId": "44041b2d-4962-4c7e-e3f6-2d66a28bac6e"
   },
   "outputs": [
    {
     "data": {
      "text/plain": [
       "0    1\n",
       "1    0\n",
       "2    1\n",
       "3    0\n",
       "4    0\n",
       "Name: Sleep efficiency, dtype: int64"
      ]
     },
     "execution_count": 12,
     "metadata": {},
     "output_type": "execute_result"
    }
   ],
   "source": [
    "# Review the y variable Series\n",
    "y[:5]"
   ]
  },
  {
   "cell_type": "code",
   "execution_count": 13,
   "metadata": {
    "colab": {
     "base_uri": "https://localhost:8080/",
     "height": 206
    },
    "id": "TgmZyX8yyygp",
    "outputId": "23a06705-ad90-4376-80f8-2b33b4c9a90d"
   },
   "outputs": [
    {
     "data": {
      "text/html": [
       "<div>\n",
       "<style scoped>\n",
       "    .dataframe tbody tr th:only-of-type {\n",
       "        vertical-align: middle;\n",
       "    }\n",
       "\n",
       "    .dataframe tbody tr th {\n",
       "        vertical-align: top;\n",
       "    }\n",
       "\n",
       "    .dataframe thead th {\n",
       "        text-align: right;\n",
       "    }\n",
       "</style>\n",
       "<table border=\"1\" class=\"dataframe\">\n",
       "  <thead>\n",
       "    <tr style=\"text-align: right;\">\n",
       "      <th></th>\n",
       "      <th>Sleep duration</th>\n",
       "      <th>REM sleep percentage</th>\n",
       "      <th>Deep sleep percentage</th>\n",
       "      <th>Light sleep percentage</th>\n",
       "      <th>Awakenings</th>\n",
       "    </tr>\n",
       "  </thead>\n",
       "  <tbody>\n",
       "    <tr>\n",
       "      <th>0</th>\n",
       "      <td>6.0</td>\n",
       "      <td>18</td>\n",
       "      <td>70</td>\n",
       "      <td>12</td>\n",
       "      <td>0.0</td>\n",
       "    </tr>\n",
       "    <tr>\n",
       "      <th>1</th>\n",
       "      <td>7.0</td>\n",
       "      <td>19</td>\n",
       "      <td>28</td>\n",
       "      <td>53</td>\n",
       "      <td>3.0</td>\n",
       "    </tr>\n",
       "    <tr>\n",
       "      <th>2</th>\n",
       "      <td>8.0</td>\n",
       "      <td>20</td>\n",
       "      <td>70</td>\n",
       "      <td>10</td>\n",
       "      <td>1.0</td>\n",
       "    </tr>\n",
       "    <tr>\n",
       "      <th>3</th>\n",
       "      <td>6.0</td>\n",
       "      <td>23</td>\n",
       "      <td>25</td>\n",
       "      <td>52</td>\n",
       "      <td>3.0</td>\n",
       "    </tr>\n",
       "    <tr>\n",
       "      <th>4</th>\n",
       "      <td>8.0</td>\n",
       "      <td>27</td>\n",
       "      <td>55</td>\n",
       "      <td>18</td>\n",
       "      <td>3.0</td>\n",
       "    </tr>\n",
       "  </tbody>\n",
       "</table>\n",
       "</div>"
      ],
      "text/plain": [
       "   Sleep duration  REM sleep percentage  Deep sleep percentage  \\\n",
       "0             6.0                    18                     70   \n",
       "1             7.0                    19                     28   \n",
       "2             8.0                    20                     70   \n",
       "3             6.0                    23                     25   \n",
       "4             8.0                    27                     55   \n",
       "\n",
       "   Light sleep percentage  Awakenings  \n",
       "0                      12         0.0  \n",
       "1                      53         3.0  \n",
       "2                      10         1.0  \n",
       "3                      52         3.0  \n",
       "4                      18         3.0  "
      ]
     },
     "execution_count": 13,
     "metadata": {},
     "output_type": "execute_result"
    }
   ],
   "source": [
    "# Review the X variable DataFrame\n",
    "x[:5]"
   ]
  },
  {
   "cell_type": "markdown",
   "metadata": {
    "id": "I0NIpdH0yygp"
   },
   "source": [
    "### Step 3: Check the balance of the labels variable (`y`) by using the `value_counts` function."
   ]
  },
  {
   "cell_type": "code",
   "execution_count": 14,
   "metadata": {
    "colab": {
     "base_uri": "https://localhost:8080/"
    },
    "id": "4A4FdDmSyygp",
    "outputId": "3b00cb7a-76f4-4f50-dd93-bc2fb0ade137"
   },
   "outputs": [
    {
     "data": {
      "text/plain": [
       "0    310\n",
       "1    218\n",
       "Name: Sleep efficiency, dtype: int64"
      ]
     },
     "execution_count": 14,
     "metadata": {},
     "output_type": "execute_result"
    }
   ],
   "source": [
    "# Check the balance of our target values\n",
    "y.value_counts()"
   ]
  },
  {
   "cell_type": "markdown",
   "metadata": {
    "id": "Ugf0y-1Yyygp"
   },
   "source": [
    "### Step 4: Split the data into training and testing datasets by using `train_test_split`."
   ]
  },
  {
   "cell_type": "code",
   "execution_count": 15,
   "metadata": {
    "id": "SL6bNIwZyygp"
   },
   "outputs": [],
   "source": [
    "# Import the train_test_learn module\n",
    "from sklearn.model_selection import train_test_split\n",
    "\n",
    "# Split the data using train_test_split\n",
    "# Assign a random_state of 1 to the function\n",
    "X_train, X_test, y_train, y_test = train_test_split(x, y, random_state=1)\n"
   ]
  },
  {
   "cell_type": "markdown",
   "metadata": {
    "id": "B58rtImFyygp"
   },
   "source": [
    "---"
   ]
  },
  {
   "cell_type": "markdown",
   "metadata": {
    "id": "_cAGG3e4yygp"
   },
   "source": [
    "## Create a Logistic Regression Model with the Original Data"
   ]
  },
  {
   "cell_type": "markdown",
   "metadata": {
    "id": "nApN7hd_yygp"
   },
   "source": [
    "###  Step 1: Fit a logistic regression model by using the training data (`X_train` and `y_train`)."
   ]
  },
  {
   "cell_type": "code",
   "execution_count": 16,
   "metadata": {
    "colab": {
     "base_uri": "https://localhost:8080/",
     "height": 75
    },
    "id": "JKGE47Iryygp",
    "outputId": "eab8c4b2-5b39-4f40-82f6-8e0e770f0ad1"
   },
   "outputs": [
    {
     "data": {
      "text/html": [
       "<style>#sk-container-id-1 {color: black;background-color: white;}#sk-container-id-1 pre{padding: 0;}#sk-container-id-1 div.sk-toggleable {background-color: white;}#sk-container-id-1 label.sk-toggleable__label {cursor: pointer;display: block;width: 100%;margin-bottom: 0;padding: 0.3em;box-sizing: border-box;text-align: center;}#sk-container-id-1 label.sk-toggleable__label-arrow:before {content: \"▸\";float: left;margin-right: 0.25em;color: #696969;}#sk-container-id-1 label.sk-toggleable__label-arrow:hover:before {color: black;}#sk-container-id-1 div.sk-estimator:hover label.sk-toggleable__label-arrow:before {color: black;}#sk-container-id-1 div.sk-toggleable__content {max-height: 0;max-width: 0;overflow: hidden;text-align: left;background-color: #f0f8ff;}#sk-container-id-1 div.sk-toggleable__content pre {margin: 0.2em;color: black;border-radius: 0.25em;background-color: #f0f8ff;}#sk-container-id-1 input.sk-toggleable__control:checked~div.sk-toggleable__content {max-height: 200px;max-width: 100%;overflow: auto;}#sk-container-id-1 input.sk-toggleable__control:checked~label.sk-toggleable__label-arrow:before {content: \"▾\";}#sk-container-id-1 div.sk-estimator input.sk-toggleable__control:checked~label.sk-toggleable__label {background-color: #d4ebff;}#sk-container-id-1 div.sk-label input.sk-toggleable__control:checked~label.sk-toggleable__label {background-color: #d4ebff;}#sk-container-id-1 input.sk-hidden--visually {border: 0;clip: rect(1px 1px 1px 1px);clip: rect(1px, 1px, 1px, 1px);height: 1px;margin: -1px;overflow: hidden;padding: 0;position: absolute;width: 1px;}#sk-container-id-1 div.sk-estimator {font-family: monospace;background-color: #f0f8ff;border: 1px dotted black;border-radius: 0.25em;box-sizing: border-box;margin-bottom: 0.5em;}#sk-container-id-1 div.sk-estimator:hover {background-color: #d4ebff;}#sk-container-id-1 div.sk-parallel-item::after {content: \"\";width: 100%;border-bottom: 1px solid gray;flex-grow: 1;}#sk-container-id-1 div.sk-label:hover label.sk-toggleable__label {background-color: #d4ebff;}#sk-container-id-1 div.sk-serial::before {content: \"\";position: absolute;border-left: 1px solid gray;box-sizing: border-box;top: 0;bottom: 0;left: 50%;z-index: 0;}#sk-container-id-1 div.sk-serial {display: flex;flex-direction: column;align-items: center;background-color: white;padding-right: 0.2em;padding-left: 0.2em;position: relative;}#sk-container-id-1 div.sk-item {position: relative;z-index: 1;}#sk-container-id-1 div.sk-parallel {display: flex;align-items: stretch;justify-content: center;background-color: white;position: relative;}#sk-container-id-1 div.sk-item::before, #sk-container-id-1 div.sk-parallel-item::before {content: \"\";position: absolute;border-left: 1px solid gray;box-sizing: border-box;top: 0;bottom: 0;left: 50%;z-index: -1;}#sk-container-id-1 div.sk-parallel-item {display: flex;flex-direction: column;z-index: 1;position: relative;background-color: white;}#sk-container-id-1 div.sk-parallel-item:first-child::after {align-self: flex-end;width: 50%;}#sk-container-id-1 div.sk-parallel-item:last-child::after {align-self: flex-start;width: 50%;}#sk-container-id-1 div.sk-parallel-item:only-child::after {width: 0;}#sk-container-id-1 div.sk-dashed-wrapped {border: 1px dashed gray;margin: 0 0.4em 0.5em 0.4em;box-sizing: border-box;padding-bottom: 0.4em;background-color: white;}#sk-container-id-1 div.sk-label label {font-family: monospace;font-weight: bold;display: inline-block;line-height: 1.2em;}#sk-container-id-1 div.sk-label-container {text-align: center;}#sk-container-id-1 div.sk-container {/* jupyter's `normalize.less` sets `[hidden] { display: none; }` but bootstrap.min.css set `[hidden] { display: none !important; }` so we also need the `!important` here to be able to override the default hidden behavior on the sphinx rendered scikit-learn.org. See: https://github.com/scikit-learn/scikit-learn/issues/21755 */display: inline-block !important;position: relative;}#sk-container-id-1 div.sk-text-repr-fallback {display: none;}</style><div id=\"sk-container-id-1\" class=\"sk-top-container\"><div class=\"sk-text-repr-fallback\"><pre>LogisticRegression(max_iter=200, random_state=1)</pre><b>In a Jupyter environment, please rerun this cell to show the HTML representation or trust the notebook. <br />On GitHub, the HTML representation is unable to render, please try loading this page with nbviewer.org.</b></div><div class=\"sk-container\" hidden><div class=\"sk-item\"><div class=\"sk-estimator sk-toggleable\"><input class=\"sk-toggleable__control sk-hidden--visually\" id=\"sk-estimator-id-1\" type=\"checkbox\" checked><label for=\"sk-estimator-id-1\" class=\"sk-toggleable__label sk-toggleable__label-arrow\">LogisticRegression</label><div class=\"sk-toggleable__content\"><pre>LogisticRegression(max_iter=200, random_state=1)</pre></div></div></div></div></div>"
      ],
      "text/plain": [
       "LogisticRegression(max_iter=200, random_state=1)"
      ]
     },
     "execution_count": 16,
     "metadata": {},
     "output_type": "execute_result"
    }
   ],
   "source": [
    "# Import the LogisticRegression module from SKLearn\n",
    "from sklearn.linear_model import LogisticRegression\n",
    "\n",
    "# Instantiate the Logistic Regression model\n",
    "# Assign a random_state parameter of 1 to the model\n",
    "logistic_regression_model = LogisticRegression(solver = 'lbfgs', max_iter = 200, random_state=1)\n",
    "# Fit the model using training data\n",
    "logistic_regression_model.fit(X_train, y_train)"
   ]
  },
  {
   "cell_type": "markdown",
   "metadata": {
    "id": "6PB3pSDZyygp"
   },
   "source": [
    "### Step 2: Save the predictions on the testing data labels by using the testing feature data (`X_test`) and the fitted model."
   ]
  },
  {
   "cell_type": "code",
   "execution_count": 17,
   "metadata": {
    "id": "45esP48Tyygp"
   },
   "outputs": [],
   "source": [
    "# Make a prediction using the testing data\n",
    "predictions = logistic_regression_model.predict(X_test)"
   ]
  },
  {
   "cell_type": "code",
   "execution_count": 18,
   "metadata": {
    "colab": {
     "base_uri": "https://localhost:8080/",
     "height": 363
    },
    "id": "7zOmLE9Kyygq",
    "outputId": "b2d0462a-8140-46eb-dad3-c85dbeef4e5c"
   },
   "outputs": [
    {
     "data": {
      "text/html": [
       "<div>\n",
       "<style scoped>\n",
       "    .dataframe tbody tr th:only-of-type {\n",
       "        vertical-align: middle;\n",
       "    }\n",
       "\n",
       "    .dataframe tbody tr th {\n",
       "        vertical-align: top;\n",
       "    }\n",
       "\n",
       "    .dataframe thead th {\n",
       "        text-align: right;\n",
       "    }\n",
       "</style>\n",
       "<table border=\"1\" class=\"dataframe\">\n",
       "  <thead>\n",
       "    <tr style=\"text-align: right;\">\n",
       "      <th></th>\n",
       "      <th>y_test</th>\n",
       "      <th>prediction</th>\n",
       "    </tr>\n",
       "  </thead>\n",
       "  <tbody>\n",
       "    <tr>\n",
       "      <th>206</th>\n",
       "      <td>1</td>\n",
       "      <td>1</td>\n",
       "    </tr>\n",
       "    <tr>\n",
       "      <th>248</th>\n",
       "      <td>1</td>\n",
       "      <td>1</td>\n",
       "    </tr>\n",
       "    <tr>\n",
       "      <th>104</th>\n",
       "      <td>1</td>\n",
       "      <td>1</td>\n",
       "    </tr>\n",
       "    <tr>\n",
       "      <th>156</th>\n",
       "      <td>1</td>\n",
       "      <td>1</td>\n",
       "    </tr>\n",
       "    <tr>\n",
       "      <th>280</th>\n",
       "      <td>1</td>\n",
       "      <td>1</td>\n",
       "    </tr>\n",
       "    <tr>\n",
       "      <th>78</th>\n",
       "      <td>0</td>\n",
       "      <td>0</td>\n",
       "    </tr>\n",
       "    <tr>\n",
       "      <th>99</th>\n",
       "      <td>0</td>\n",
       "      <td>0</td>\n",
       "    </tr>\n",
       "    <tr>\n",
       "      <th>92</th>\n",
       "      <td>0</td>\n",
       "      <td>0</td>\n",
       "    </tr>\n",
       "    <tr>\n",
       "      <th>549</th>\n",
       "      <td>0</td>\n",
       "      <td>0</td>\n",
       "    </tr>\n",
       "    <tr>\n",
       "      <th>329</th>\n",
       "      <td>0</td>\n",
       "      <td>0</td>\n",
       "    </tr>\n",
       "  </tbody>\n",
       "</table>\n",
       "</div>"
      ],
      "text/plain": [
       "     y_test  prediction\n",
       "206       1           1\n",
       "248       1           1\n",
       "104       1           1\n",
       "156       1           1\n",
       "280       1           1\n",
       "78        0           0\n",
       "99        0           0\n",
       "92        0           0\n",
       "549       0           0\n",
       "329       0           0"
      ]
     },
     "execution_count": 18,
     "metadata": {},
     "output_type": "execute_result"
    }
   ],
   "source": [
    "# Make a prediction using the testing data\n",
    "y_predictions = logistic_regression_model.predict(X_test)\n",
    "\n",
    "df_results = pd.DataFrame({\n",
    "    \"y_test\": y_test,\n",
    "    \"prediction\": y_predictions\n",
    "})\n",
    "\n",
    "df_results.sample(10)"
   ]
  },
  {
   "cell_type": "markdown",
   "metadata": {
    "id": "w4ZG5egdyygq"
   },
   "source": [
    "### Step 3: Evaluate the model’s performance by doing the following:\n",
    "\n",
    "* Calculate the accuracy score of the model.\n",
    "\n",
    "* Generate a confusion matrix.\n",
    "\n",
    "* Print the classification report."
   ]
  },
  {
   "cell_type": "code",
   "execution_count": 19,
   "metadata": {
    "colab": {
     "base_uri": "https://localhost:8080/"
    },
    "id": "ya8PbVOByygq",
    "outputId": "72b8e821-d995-4f04-a463-5c50a9cda108"
   },
   "outputs": [
    {
     "data": {
      "text/plain": [
       "0.8816267247639797"
      ]
     },
     "execution_count": 19,
     "metadata": {},
     "output_type": "execute_result"
    }
   ],
   "source": [
    "# Print the balanced_accuracy score of the model\n",
    "balanced_accuracy_score(y_test, y_predictions)"
   ]
  },
  {
   "cell_type": "code",
   "execution_count": 20,
   "metadata": {
    "colab": {
     "base_uri": "https://localhost:8080/"
    },
    "id": "rqWOcWD4yygq",
    "outputId": "8c873de8-9936-4b45-c417-dbd2d986aef5"
   },
   "outputs": [
    {
     "data": {
      "text/plain": [
       "array([[65, 16],\n",
       "       [ 2, 49]], dtype=int64)"
      ]
     },
     "execution_count": 20,
     "metadata": {},
     "output_type": "execute_result"
    }
   ],
   "source": [
    "# Generate a confusion matrix for the model\n",
    "confusion_matrix(y_test, y_predictions)"
   ]
  },
  {
   "cell_type": "code",
   "execution_count": 21,
   "metadata": {
    "colab": {
     "base_uri": "https://localhost:8080/"
    },
    "id": "m_wP5cqqyygq",
    "outputId": "8ef2f935-7942-4e54-e703-db1d82dea15a"
   },
   "outputs": [
    {
     "name": "stdout",
     "output_type": "stream",
     "text": [
      "Classification Report:\n",
      "              precision    recall  f1-score   support\n",
      "\n",
      "   Bad_sleep       0.97      0.80      0.88        81\n",
      "  Good_sleep       0.75      0.96      0.84        51\n",
      "\n",
      "    accuracy                           0.86       132\n",
      "   macro avg       0.86      0.88      0.86       132\n",
      "weighted avg       0.89      0.86      0.87       132\n",
      "\n"
     ]
    }
   ],
   "source": [
    "# Print the classification report for the model\n",
    "print(\"Classification Report:\")\n",
    "print(classification_report(y_test, y_predictions, target_names = [\"Bad_sleep\", \"Good_sleep\"]))"
   ]
  },
  {
   "cell_type": "markdown",
   "metadata": {
    "id": "lXoUuGGiyygq"
   },
   "source": [
    "### Step 4: Answer the following question."
   ]
  },
  {
   "cell_type": "markdown",
   "metadata": {
    "id": "8sRdgb0Fyygq"
   },
   "source": [
    "**Question:** How well does the logistic regression model predict both the `0` (bad_sleep) and `1` (good_sleep) labels?\n",
    "\n",
    "**Answer:** The logistic regression model predict both labels as a positive inpact. The Number of healthy sleeping  is greater than the number of unhealthy sleeping. The model has a good accuracy model of 86%, the precision score for 1 (good sleeping) is 75% and the precision for 0 labels is bad sleep at 85%. The recall score is also quite high at 80% for prediction of 0 labels and 96% for good-sleep  with the label 1."
   ]
  },
  {
   "cell_type": "markdown",
   "metadata": {
    "id": "D9gQaTl4yygq"
   },
   "source": [
    "---"
   ]
  },
  {
   "cell_type": "markdown",
   "metadata": {
    "id": "ChQQ3vPfyygq"
   },
   "source": [
    "## Predict a Logistic Regression Model with Resampled Training Data"
   ]
  },
  {
   "cell_type": "markdown",
   "metadata": {
    "id": "tCMzEQ6cyygq"
   },
   "source": [
    "### Step 1: Use the `RandomOverSampler` module from the imbalanced-learn library to resample the data. Be sure to confirm that the labels have an equal number of data points."
   ]
  },
  {
   "cell_type": "code",
   "execution_count": 22,
   "metadata": {
    "id": "1WtTaFtByygq"
   },
   "outputs": [],
   "source": [
    "# Import the RandomOverSampler module form imbalanced-learn\n",
    "from imblearn.over_sampling import RandomOverSampler\n",
    "\n",
    "# Instantiate the random oversampler model\n",
    "# # Assign a random_state parameter of 1 to the model\n",
    "r_model = RandomOverSampler(random_state=1)\n",
    "\n",
    "\n",
    "# Fit the original training data to the random_oversampler model\n",
    "X_resampled, y_resampled = r_model.fit_resample(X_train, y_train)"
   ]
  },
  {
   "cell_type": "code",
   "execution_count": 23,
   "metadata": {
    "colab": {
     "base_uri": "https://localhost:8080/"
    },
    "id": "tfoK60eOyygq",
    "outputId": "63cf1507-6f54-41ae-f1f5-06a35a33faa0"
   },
   "outputs": [
    {
     "name": "stdout",
     "output_type": "stream",
     "text": [
      "Number of distinct values of the resampled labels :  2\n",
      "0    229\n",
      "1    229\n",
      "Name: Sleep efficiency, dtype: int64\n"
     ]
    }
   ],
   "source": [
    "# Count the distinct values of the resampled labels data\n",
    "labels = y_resampled.value_counts()\n",
    "num_distinct_val = len(labels)\n",
    "\n",
    "print(\"Number of distinct values of the resampled labels : \",num_distinct_val )\n",
    "print(labels)"
   ]
  },
  {
   "cell_type": "code",
   "execution_count": 24,
   "metadata": {
    "id": "NSUr0VYuyygq"
   },
   "outputs": [],
   "source": [
    "#y_resampled"
   ]
  },
  {
   "cell_type": "markdown",
   "metadata": {
    "id": "fskH9sDayygq"
   },
   "source": [
    "### Step 2: Use the `LogisticRegression` classifier and the resampled data to fit the model and make predictions."
   ]
  },
  {
   "cell_type": "code",
   "execution_count": 25,
   "metadata": {
    "id": "Sl_gryyoyygr"
   },
   "outputs": [],
   "source": [
    " #Instantiate the Logistic Regression model\n",
    "# Assign a random_state parameter of 1 to the model\n",
    "lr_model = LogisticRegression(solver = 'lbfgs', max_iter = 200, random_state=1)\n",
    "\n",
    "# Fit the model using training data\n",
    "lr_model.fit(X_train, y_train)\n",
    "\n",
    "# Fit the model using the resampled training data\n",
    "lr_model.fit(X_resampled, y_resampled)\n",
    "\n",
    "# Make a prediction using the testing data\n",
    "predictions = lr_model.predict(X_test)"
   ]
  },
  {
   "cell_type": "markdown",
   "metadata": {
    "id": "WGUF75vayygr"
   },
   "source": [
    "### Step 3: Evaluate the model’s performance by doing the following:\n",
    "\n",
    "* Calculate the accuracy score of the model.\n",
    "\n",
    "* Generate a confusion matrix.\n",
    "\n",
    "* Print the classification report."
   ]
  },
  {
   "cell_type": "code",
   "execution_count": 26,
   "metadata": {
    "colab": {
     "base_uri": "https://localhost:8080/"
    },
    "id": "wCNmBQepyygr",
    "outputId": "a02a8ac1-c6d0-4679-ea0e-89ffd5ebe038"
   },
   "outputs": [
    {
     "data": {
      "text/plain": [
       "0.8914306463326072"
      ]
     },
     "execution_count": 26,
     "metadata": {},
     "output_type": "execute_result"
    }
   ],
   "source": [
    "# Print the balanced_accuracy score of the model\n",
    "balanced_accuracy_score(y_test, predictions)"
   ]
  },
  {
   "cell_type": "code",
   "execution_count": 27,
   "metadata": {
    "colab": {
     "base_uri": "https://localhost:8080/"
    },
    "id": "e5A3rG4xyygr",
    "outputId": "a4762e5e-e986-4078-e726-03ae55869e78"
   },
   "outputs": [
    {
     "data": {
      "text/plain": [
       "array([[65, 16],\n",
       "       [ 1, 50]], dtype=int64)"
      ]
     },
     "execution_count": 27,
     "metadata": {},
     "output_type": "execute_result"
    }
   ],
   "source": [
    "# Generate a confusion matrix for the model\n",
    "confusion_matrix(y_test, predictions)"
   ]
  },
  {
   "cell_type": "code",
   "execution_count": 28,
   "metadata": {
    "colab": {
     "base_uri": "https://localhost:8080/"
    },
    "id": "d4SbOwLvyygr",
    "outputId": "7643a46c-27fb-4c3b-d70d-d98c52fd24b3"
   },
   "outputs": [
    {
     "name": "stdout",
     "output_type": "stream",
     "text": [
      "Classification Report:\n",
      "              precision    recall  f1-score   support\n",
      "\n",
      "           0       0.98      0.80      0.88        81\n",
      "           1       0.76      0.98      0.85        51\n",
      "\n",
      "    accuracy                           0.87       132\n",
      "   macro avg       0.87      0.89      0.87       132\n",
      "weighted avg       0.90      0.87      0.87       132\n",
      "\n"
     ]
    }
   ],
   "source": [
    "# Print the classification report for the model\n",
    "classification_rep = classification_report(y_test, predictions)\n",
    "print(\"Classification Report:\")\n",
    "print(classification_rep)"
   ]
  },
  {
   "cell_type": "code",
   "execution_count": null,
   "metadata": {
    "id": "xBLxYhX5yyg0"
   },
   "outputs": [],
   "source": []
  }
 ],
 "metadata": {
  "colab": {
   "provenance": []
  },
  "kernelspec": {
   "display_name": "Python 3 (ipykernel)",
   "language": "python",
   "name": "python3"
  },
  "language_info": {
   "codemirror_mode": {
    "name": "ipython",
    "version": 3
   },
   "file_extension": ".py",
   "mimetype": "text/x-python",
   "name": "python",
   "nbconvert_exporter": "python",
   "pygments_lexer": "ipython3",
   "version": "3.11.3"
  },
  "vscode": {
   "interpreter": {
    "hash": "31f2aee4e71d21fbe5cf8b01ff0e069b9275f58929596ceb00d14d90e3e16cd6"
   }
  }
 },
 "nbformat": 4,
 "nbformat_minor": 1
}
